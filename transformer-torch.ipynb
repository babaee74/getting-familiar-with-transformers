{
  "nbformat": 4,
  "nbformat_minor": 0,
  "metadata": {
    "colab": {
      "provenance": [],
      "collapsed_sections": [
        "oBRfQwjeY6XE",
        "ikBhM9IAygya",
        "26wlvKnJA3Wv"
      ],
      "toc_visible": true
    },
    "kernelspec": {
      "name": "python3",
      "display_name": "Python 3"
    },
    "accelerator": "GPU",
    "widgets": {
      "application/vnd.jupyter.widget-state+json": {
        "9f6aedf8c45e4cdd8041e8b52a840e16": {
          "model_module": "@jupyter-widgets/controls",
          "model_name": "HBoxModel",
          "state": {
            "_view_name": "HBoxView",
            "_dom_classes": [],
            "_model_name": "HBoxModel",
            "_view_module": "@jupyter-widgets/controls",
            "_model_module_version": "1.5.0",
            "_view_count": null,
            "_view_module_version": "1.5.0",
            "box_style": "",
            "layout": "IPY_MODEL_b62cc24b4e814d37959c6307855cbb74",
            "_model_module": "@jupyter-widgets/controls",
            "children": [
              "IPY_MODEL_86fb03a68a664a59bc38fe55b2820a65",
              "IPY_MODEL_9859cf8d93c6420eb27a833172a05a45"
            ]
          },
          "model_module_version": "1.5.0"
        },
        "b62cc24b4e814d37959c6307855cbb74": {
          "model_module": "@jupyter-widgets/base",
          "model_name": "LayoutModel",
          "state": {
            "_view_name": "LayoutView",
            "grid_template_rows": null,
            "right": null,
            "justify_content": null,
            "_view_module": "@jupyter-widgets/base",
            "overflow": null,
            "_model_module_version": "1.2.0",
            "_view_count": null,
            "flex_flow": null,
            "width": null,
            "min_width": null,
            "border": null,
            "align_items": null,
            "bottom": null,
            "_model_module": "@jupyter-widgets/base",
            "top": null,
            "grid_column": null,
            "overflow_y": null,
            "overflow_x": null,
            "grid_auto_flow": null,
            "grid_area": null,
            "grid_template_columns": null,
            "flex": null,
            "_model_name": "LayoutModel",
            "justify_items": null,
            "grid_row": null,
            "max_height": null,
            "align_content": null,
            "visibility": null,
            "align_self": null,
            "height": null,
            "min_height": null,
            "padding": null,
            "grid_auto_rows": null,
            "grid_gap": null,
            "max_width": null,
            "order": null,
            "_view_module_version": "1.2.0",
            "grid_template_areas": null,
            "object_position": null,
            "object_fit": null,
            "grid_auto_columns": null,
            "margin": null,
            "display": null,
            "left": null
          },
          "model_module_version": "1.2.0"
        },
        "86fb03a68a664a59bc38fe55b2820a65": {
          "model_module": "@jupyter-widgets/controls",
          "model_name": "FloatProgressModel",
          "state": {
            "_view_name": "ProgressView",
            "style": "IPY_MODEL_d90943fee22745a8b9415f1273b0e9ea",
            "_dom_classes": [],
            "description": "train_loss=0.0117 ,train_accuracy=99.7109: 100%",
            "_model_name": "FloatProgressModel",
            "bar_style": "success",
            "max": 31250,
            "_view_module": "@jupyter-widgets/controls",
            "_model_module_version": "1.5.0",
            "value": 31250,
            "_view_count": null,
            "_view_module_version": "1.5.0",
            "orientation": "horizontal",
            "min": 0,
            "description_tooltip": null,
            "_model_module": "@jupyter-widgets/controls",
            "layout": "IPY_MODEL_a3b56f7a77cc42689522a59864f067ba"
          },
          "model_module_version": "1.5.0"
        },
        "9859cf8d93c6420eb27a833172a05a45": {
          "model_module": "@jupyter-widgets/controls",
          "model_name": "HTMLModel",
          "state": {
            "_view_name": "HTMLView",
            "style": "IPY_MODEL_eea7bf3dc594409c84596ddfffe08a6f",
            "_dom_classes": [],
            "description": "",
            "_model_name": "HTMLModel",
            "placeholder": "​",
            "_view_module": "@jupyter-widgets/controls",
            "_model_module_version": "1.5.0",
            "value": " 31250/31250 [1:38:50&lt;00:00,  5.27it/s]",
            "_view_count": null,
            "_view_module_version": "1.5.0",
            "description_tooltip": null,
            "_model_module": "@jupyter-widgets/controls",
            "layout": "IPY_MODEL_5835468fee2f4be5a97e28b92fb6b1fb"
          },
          "model_module_version": "1.5.0"
        },
        "d90943fee22745a8b9415f1273b0e9ea": {
          "model_module": "@jupyter-widgets/controls",
          "model_name": "ProgressStyleModel",
          "state": {
            "_view_name": "StyleView",
            "_model_name": "ProgressStyleModel",
            "description_width": "initial",
            "_view_module": "@jupyter-widgets/base",
            "_model_module_version": "1.5.0",
            "_view_count": null,
            "_view_module_version": "1.2.0",
            "bar_color": null,
            "_model_module": "@jupyter-widgets/controls"
          },
          "model_module_version": "1.5.0"
        },
        "a3b56f7a77cc42689522a59864f067ba": {
          "model_module": "@jupyter-widgets/base",
          "model_name": "LayoutModel",
          "state": {
            "_view_name": "LayoutView",
            "grid_template_rows": null,
            "right": null,
            "justify_content": null,
            "_view_module": "@jupyter-widgets/base",
            "overflow": null,
            "_model_module_version": "1.2.0",
            "_view_count": null,
            "flex_flow": null,
            "width": null,
            "min_width": null,
            "border": null,
            "align_items": null,
            "bottom": null,
            "_model_module": "@jupyter-widgets/base",
            "top": null,
            "grid_column": null,
            "overflow_y": null,
            "overflow_x": null,
            "grid_auto_flow": null,
            "grid_area": null,
            "grid_template_columns": null,
            "flex": null,
            "_model_name": "LayoutModel",
            "justify_items": null,
            "grid_row": null,
            "max_height": null,
            "align_content": null,
            "visibility": null,
            "align_self": null,
            "height": null,
            "min_height": null,
            "padding": null,
            "grid_auto_rows": null,
            "grid_gap": null,
            "max_width": null,
            "order": null,
            "_view_module_version": "1.2.0",
            "grid_template_areas": null,
            "object_position": null,
            "object_fit": null,
            "grid_auto_columns": null,
            "margin": null,
            "display": null,
            "left": null
          },
          "model_module_version": "1.2.0"
        },
        "eea7bf3dc594409c84596ddfffe08a6f": {
          "model_module": "@jupyter-widgets/controls",
          "model_name": "DescriptionStyleModel",
          "state": {
            "_view_name": "StyleView",
            "_model_name": "DescriptionStyleModel",
            "description_width": "",
            "_view_module": "@jupyter-widgets/base",
            "_model_module_version": "1.5.0",
            "_view_count": null,
            "_view_module_version": "1.2.0",
            "_model_module": "@jupyter-widgets/controls"
          },
          "model_module_version": "1.5.0"
        },
        "5835468fee2f4be5a97e28b92fb6b1fb": {
          "model_module": "@jupyter-widgets/base",
          "model_name": "LayoutModel",
          "state": {
            "_view_name": "LayoutView",
            "grid_template_rows": null,
            "right": null,
            "justify_content": null,
            "_view_module": "@jupyter-widgets/base",
            "overflow": null,
            "_model_module_version": "1.2.0",
            "_view_count": null,
            "flex_flow": null,
            "width": null,
            "min_width": null,
            "border": null,
            "align_items": null,
            "bottom": null,
            "_model_module": "@jupyter-widgets/base",
            "top": null,
            "grid_column": null,
            "overflow_y": null,
            "overflow_x": null,
            "grid_auto_flow": null,
            "grid_area": null,
            "grid_template_columns": null,
            "flex": null,
            "_model_name": "LayoutModel",
            "justify_items": null,
            "grid_row": null,
            "max_height": null,
            "align_content": null,
            "visibility": null,
            "align_self": null,
            "height": null,
            "min_height": null,
            "padding": null,
            "grid_auto_rows": null,
            "grid_gap": null,
            "max_width": null,
            "order": null,
            "_view_module_version": "1.2.0",
            "grid_template_areas": null,
            "object_position": null,
            "object_fit": null,
            "grid_auto_columns": null,
            "margin": null,
            "display": null,
            "left": null
          },
          "model_module_version": "1.2.0"
        },
        "c0d4d8d955384bd6bf4ddf204509e278": {
          "model_module": "@jupyter-widgets/controls",
          "model_name": "HBoxModel",
          "state": {
            "_view_name": "HBoxView",
            "_dom_classes": [],
            "_model_name": "HBoxModel",
            "_view_module": "@jupyter-widgets/controls",
            "_model_module_version": "1.5.0",
            "_view_count": null,
            "_view_module_version": "1.5.0",
            "box_style": "",
            "layout": "IPY_MODEL_eeeeebb632a246a2b6afefe3746bad3e",
            "_model_module": "@jupyter-widgets/controls",
            "children": [
              "IPY_MODEL_5290a1e64ab842e79bfedc9c012f3bd4",
              "IPY_MODEL_2d35a3c3e1f349cb93513f614788de4f"
            ]
          },
          "model_module_version": "1.5.0"
        },
        "eeeeebb632a246a2b6afefe3746bad3e": {
          "model_module": "@jupyter-widgets/base",
          "model_name": "LayoutModel",
          "state": {
            "_view_name": "LayoutView",
            "grid_template_rows": null,
            "right": null,
            "justify_content": null,
            "_view_module": "@jupyter-widgets/base",
            "overflow": null,
            "_model_module_version": "1.2.0",
            "_view_count": null,
            "flex_flow": null,
            "width": null,
            "min_width": null,
            "border": null,
            "align_items": null,
            "bottom": null,
            "_model_module": "@jupyter-widgets/base",
            "top": null,
            "grid_column": null,
            "overflow_y": null,
            "overflow_x": null,
            "grid_auto_flow": null,
            "grid_area": null,
            "grid_template_columns": null,
            "flex": null,
            "_model_name": "LayoutModel",
            "justify_items": null,
            "grid_row": null,
            "max_height": null,
            "align_content": null,
            "visibility": null,
            "align_self": null,
            "height": null,
            "min_height": null,
            "padding": null,
            "grid_auto_rows": null,
            "grid_gap": null,
            "max_width": null,
            "order": null,
            "_view_module_version": "1.2.0",
            "grid_template_areas": null,
            "object_position": null,
            "object_fit": null,
            "grid_auto_columns": null,
            "margin": null,
            "display": null,
            "left": null
          },
          "model_module_version": "1.2.0"
        },
        "5290a1e64ab842e79bfedc9c012f3bd4": {
          "model_module": "@jupyter-widgets/controls",
          "model_name": "FloatProgressModel",
          "state": {
            "_view_name": "ProgressView",
            "style": "IPY_MODEL_94f11cc4d538469297f990f1594a53a7",
            "_dom_classes": [],
            "description": "  0%",
            "_model_name": "FloatProgressModel",
            "bar_style": "danger",
            "max": 31250,
            "_view_module": "@jupyter-widgets/controls",
            "_model_module_version": "1.5.0",
            "value": 0,
            "_view_count": null,
            "_view_module_version": "1.5.0",
            "orientation": "horizontal",
            "min": 0,
            "description_tooltip": null,
            "_model_module": "@jupyter-widgets/controls",
            "layout": "IPY_MODEL_3646a9c7a5674b0aa54bbc150fc89f49"
          },
          "model_module_version": "1.5.0"
        },
        "2d35a3c3e1f349cb93513f614788de4f": {
          "model_module": "@jupyter-widgets/controls",
          "model_name": "HTMLModel",
          "state": {
            "_view_name": "HTMLView",
            "style": "IPY_MODEL_cad9886528a84da7b86b3637ce2289e6",
            "_dom_classes": [],
            "description": "",
            "_model_name": "HTMLModel",
            "placeholder": "​",
            "_view_module": "@jupyter-widgets/controls",
            "_model_module_version": "1.5.0",
            "value": " 0/31250 [00:00&lt;?, ?it/s]",
            "_view_count": null,
            "_view_module_version": "1.5.0",
            "description_tooltip": null,
            "_model_module": "@jupyter-widgets/controls",
            "layout": "IPY_MODEL_3a64c7edb1104ac193d98be839ddd4ca"
          },
          "model_module_version": "1.5.0"
        },
        "94f11cc4d538469297f990f1594a53a7": {
          "model_module": "@jupyter-widgets/controls",
          "model_name": "ProgressStyleModel",
          "state": {
            "_view_name": "StyleView",
            "_model_name": "ProgressStyleModel",
            "description_width": "initial",
            "_view_module": "@jupyter-widgets/base",
            "_model_module_version": "1.5.0",
            "_view_count": null,
            "_view_module_version": "1.2.0",
            "bar_color": null,
            "_model_module": "@jupyter-widgets/controls"
          },
          "model_module_version": "1.5.0"
        },
        "3646a9c7a5674b0aa54bbc150fc89f49": {
          "model_module": "@jupyter-widgets/base",
          "model_name": "LayoutModel",
          "state": {
            "_view_name": "LayoutView",
            "grid_template_rows": null,
            "right": null,
            "justify_content": null,
            "_view_module": "@jupyter-widgets/base",
            "overflow": null,
            "_model_module_version": "1.2.0",
            "_view_count": null,
            "flex_flow": null,
            "width": null,
            "min_width": null,
            "border": null,
            "align_items": null,
            "bottom": null,
            "_model_module": "@jupyter-widgets/base",
            "top": null,
            "grid_column": null,
            "overflow_y": null,
            "overflow_x": null,
            "grid_auto_flow": null,
            "grid_area": null,
            "grid_template_columns": null,
            "flex": null,
            "_model_name": "LayoutModel",
            "justify_items": null,
            "grid_row": null,
            "max_height": null,
            "align_content": null,
            "visibility": null,
            "align_self": null,
            "height": null,
            "min_height": null,
            "padding": null,
            "grid_auto_rows": null,
            "grid_gap": null,
            "max_width": null,
            "order": null,
            "_view_module_version": "1.2.0",
            "grid_template_areas": null,
            "object_position": null,
            "object_fit": null,
            "grid_auto_columns": null,
            "margin": null,
            "display": null,
            "left": null
          },
          "model_module_version": "1.2.0"
        },
        "cad9886528a84da7b86b3637ce2289e6": {
          "model_module": "@jupyter-widgets/controls",
          "model_name": "DescriptionStyleModel",
          "state": {
            "_view_name": "StyleView",
            "_model_name": "DescriptionStyleModel",
            "description_width": "",
            "_view_module": "@jupyter-widgets/base",
            "_model_module_version": "1.5.0",
            "_view_count": null,
            "_view_module_version": "1.2.0",
            "_model_module": "@jupyter-widgets/controls"
          },
          "model_module_version": "1.5.0"
        },
        "3a64c7edb1104ac193d98be839ddd4ca": {
          "model_module": "@jupyter-widgets/base",
          "model_name": "LayoutModel",
          "state": {
            "_view_name": "LayoutView",
            "grid_template_rows": null,
            "right": null,
            "justify_content": null,
            "_view_module": "@jupyter-widgets/base",
            "overflow": null,
            "_model_module_version": "1.2.0",
            "_view_count": null,
            "flex_flow": null,
            "width": null,
            "min_width": null,
            "border": null,
            "align_items": null,
            "bottom": null,
            "_model_module": "@jupyter-widgets/base",
            "top": null,
            "grid_column": null,
            "overflow_y": null,
            "overflow_x": null,
            "grid_auto_flow": null,
            "grid_area": null,
            "grid_template_columns": null,
            "flex": null,
            "_model_name": "LayoutModel",
            "justify_items": null,
            "grid_row": null,
            "max_height": null,
            "align_content": null,
            "visibility": null,
            "align_self": null,
            "height": null,
            "min_height": null,
            "padding": null,
            "grid_auto_rows": null,
            "grid_gap": null,
            "max_width": null,
            "order": null,
            "_view_module_version": "1.2.0",
            "grid_template_areas": null,
            "object_position": null,
            "object_fit": null,
            "grid_auto_columns": null,
            "margin": null,
            "display": null,
            "left": null
          },
          "model_module_version": "1.2.0"
        },
        "379f7c79a3ca4951a73a36c7610a06dd": {
          "model_module": "@jupyter-widgets/controls",
          "model_name": "HBoxModel",
          "state": {
            "_view_name": "HBoxView",
            "_dom_classes": [],
            "_model_name": "HBoxModel",
            "_view_module": "@jupyter-widgets/controls",
            "_model_module_version": "1.5.0",
            "_view_count": null,
            "_view_module_version": "1.5.0",
            "box_style": "",
            "layout": "IPY_MODEL_7e90cac7ad27425d94fb2c74e1a0734c",
            "_model_module": "@jupyter-widgets/controls",
            "children": [
              "IPY_MODEL_2636c46427f84b16ac0a3ca5925545dd",
              "IPY_MODEL_7512596b4e6342c19078b9fa5921781f"
            ]
          },
          "model_module_version": "1.5.0"
        },
        "7e90cac7ad27425d94fb2c74e1a0734c": {
          "model_module": "@jupyter-widgets/base",
          "model_name": "LayoutModel",
          "state": {
            "_view_name": "LayoutView",
            "grid_template_rows": null,
            "right": null,
            "justify_content": null,
            "_view_module": "@jupyter-widgets/base",
            "overflow": null,
            "_model_module_version": "1.2.0",
            "_view_count": null,
            "flex_flow": null,
            "width": null,
            "min_width": null,
            "border": null,
            "align_items": null,
            "bottom": null,
            "_model_module": "@jupyter-widgets/base",
            "top": null,
            "grid_column": null,
            "overflow_y": null,
            "overflow_x": null,
            "grid_auto_flow": null,
            "grid_area": null,
            "grid_template_columns": null,
            "flex": null,
            "_model_name": "LayoutModel",
            "justify_items": null,
            "grid_row": null,
            "max_height": null,
            "align_content": null,
            "visibility": null,
            "align_self": null,
            "height": null,
            "min_height": null,
            "padding": null,
            "grid_auto_rows": null,
            "grid_gap": null,
            "max_width": null,
            "order": null,
            "_view_module_version": "1.2.0",
            "grid_template_areas": null,
            "object_position": null,
            "object_fit": null,
            "grid_auto_columns": null,
            "margin": null,
            "display": null,
            "left": null
          },
          "model_module_version": "1.2.0"
        },
        "2636c46427f84b16ac0a3ca5925545dd": {
          "model_module": "@jupyter-widgets/controls",
          "model_name": "FloatProgressModel",
          "state": {
            "_view_name": "ProgressView",
            "style": "IPY_MODEL_2ca2030e611f44e9aee5702534c1b2a6",
            "_dom_classes": [],
            "description": "train_loss=0.0074 ,train_accuracy=99.7031: 100%",
            "_model_name": "FloatProgressModel",
            "bar_style": "success",
            "max": 31250,
            "_view_module": "@jupyter-widgets/controls",
            "_model_module_version": "1.5.0",
            "value": 31250,
            "_view_count": null,
            "_view_module_version": "1.5.0",
            "orientation": "horizontal",
            "min": 0,
            "description_tooltip": null,
            "_model_module": "@jupyter-widgets/controls",
            "layout": "IPY_MODEL_2d429bf8fe1044b091b416a515b15981"
          },
          "model_module_version": "1.5.0"
        },
        "7512596b4e6342c19078b9fa5921781f": {
          "model_module": "@jupyter-widgets/controls",
          "model_name": "HTMLModel",
          "state": {
            "_view_name": "HTMLView",
            "style": "IPY_MODEL_2e88f364b09541cbbc9fcd5279bdf86a",
            "_dom_classes": [],
            "description": "",
            "_model_name": "HTMLModel",
            "placeholder": "​",
            "_view_module": "@jupyter-widgets/controls",
            "_model_module_version": "1.5.0",
            "value": " 31250/31250 [56:23&lt;00:00,  9.24it/s]",
            "_view_count": null,
            "_view_module_version": "1.5.0",
            "description_tooltip": null,
            "_model_module": "@jupyter-widgets/controls",
            "layout": "IPY_MODEL_276e69815e014444a1ac745aaef86219"
          },
          "model_module_version": "1.5.0"
        },
        "2ca2030e611f44e9aee5702534c1b2a6": {
          "model_module": "@jupyter-widgets/controls",
          "model_name": "ProgressStyleModel",
          "state": {
            "_view_name": "StyleView",
            "_model_name": "ProgressStyleModel",
            "description_width": "initial",
            "_view_module": "@jupyter-widgets/base",
            "_model_module_version": "1.5.0",
            "_view_count": null,
            "_view_module_version": "1.2.0",
            "bar_color": null,
            "_model_module": "@jupyter-widgets/controls"
          },
          "model_module_version": "1.5.0"
        },
        "2d429bf8fe1044b091b416a515b15981": {
          "model_module": "@jupyter-widgets/base",
          "model_name": "LayoutModel",
          "state": {
            "_view_name": "LayoutView",
            "grid_template_rows": null,
            "right": null,
            "justify_content": null,
            "_view_module": "@jupyter-widgets/base",
            "overflow": null,
            "_model_module_version": "1.2.0",
            "_view_count": null,
            "flex_flow": null,
            "width": null,
            "min_width": null,
            "border": null,
            "align_items": null,
            "bottom": null,
            "_model_module": "@jupyter-widgets/base",
            "top": null,
            "grid_column": null,
            "overflow_y": null,
            "overflow_x": null,
            "grid_auto_flow": null,
            "grid_area": null,
            "grid_template_columns": null,
            "flex": null,
            "_model_name": "LayoutModel",
            "justify_items": null,
            "grid_row": null,
            "max_height": null,
            "align_content": null,
            "visibility": null,
            "align_self": null,
            "height": null,
            "min_height": null,
            "padding": null,
            "grid_auto_rows": null,
            "grid_gap": null,
            "max_width": null,
            "order": null,
            "_view_module_version": "1.2.0",
            "grid_template_areas": null,
            "object_position": null,
            "object_fit": null,
            "grid_auto_columns": null,
            "margin": null,
            "display": null,
            "left": null
          },
          "model_module_version": "1.2.0"
        },
        "2e88f364b09541cbbc9fcd5279bdf86a": {
          "model_module": "@jupyter-widgets/controls",
          "model_name": "DescriptionStyleModel",
          "state": {
            "_view_name": "StyleView",
            "_model_name": "DescriptionStyleModel",
            "description_width": "",
            "_view_module": "@jupyter-widgets/base",
            "_model_module_version": "1.5.0",
            "_view_count": null,
            "_view_module_version": "1.2.0",
            "_model_module": "@jupyter-widgets/controls"
          },
          "model_module_version": "1.5.0"
        },
        "276e69815e014444a1ac745aaef86219": {
          "model_module": "@jupyter-widgets/base",
          "model_name": "LayoutModel",
          "state": {
            "_view_name": "LayoutView",
            "grid_template_rows": null,
            "right": null,
            "justify_content": null,
            "_view_module": "@jupyter-widgets/base",
            "overflow": null,
            "_model_module_version": "1.2.0",
            "_view_count": null,
            "flex_flow": null,
            "width": null,
            "min_width": null,
            "border": null,
            "align_items": null,
            "bottom": null,
            "_model_module": "@jupyter-widgets/base",
            "top": null,
            "grid_column": null,
            "overflow_y": null,
            "overflow_x": null,
            "grid_auto_flow": null,
            "grid_area": null,
            "grid_template_columns": null,
            "flex": null,
            "_model_name": "LayoutModel",
            "justify_items": null,
            "grid_row": null,
            "max_height": null,
            "align_content": null,
            "visibility": null,
            "align_self": null,
            "height": null,
            "min_height": null,
            "padding": null,
            "grid_auto_rows": null,
            "grid_gap": null,
            "max_width": null,
            "order": null,
            "_view_module_version": "1.2.0",
            "grid_template_areas": null,
            "object_position": null,
            "object_fit": null,
            "grid_auto_columns": null,
            "margin": null,
            "display": null,
            "left": null
          },
          "model_module_version": "1.2.0"
        },
        "79db9ad66ee049929d9f0c12f585d280": {
          "model_module": "@jupyter-widgets/controls",
          "model_name": "HBoxModel",
          "state": {
            "_view_name": "HBoxView",
            "_dom_classes": [],
            "_model_name": "HBoxModel",
            "_view_module": "@jupyter-widgets/controls",
            "_model_module_version": "1.5.0",
            "_view_count": null,
            "_view_module_version": "1.5.0",
            "box_style": "",
            "layout": "IPY_MODEL_adf1c7600612407e9897dcba0f4d9200",
            "_model_module": "@jupyter-widgets/controls",
            "children": [
              "IPY_MODEL_e0a59dc109a04a3facb83c13a6db8c7d",
              "IPY_MODEL_83da51bf4aa34534b146bc16091bd1fe"
            ]
          },
          "model_module_version": "1.5.0"
        },
        "adf1c7600612407e9897dcba0f4d9200": {
          "model_module": "@jupyter-widgets/base",
          "model_name": "LayoutModel",
          "state": {
            "_view_name": "LayoutView",
            "grid_template_rows": null,
            "right": null,
            "justify_content": null,
            "_view_module": "@jupyter-widgets/base",
            "overflow": null,
            "_model_module_version": "1.2.0",
            "_view_count": null,
            "flex_flow": null,
            "width": null,
            "min_width": null,
            "border": null,
            "align_items": null,
            "bottom": null,
            "_model_module": "@jupyter-widgets/base",
            "top": null,
            "grid_column": null,
            "overflow_y": null,
            "overflow_x": null,
            "grid_auto_flow": null,
            "grid_area": null,
            "grid_template_columns": null,
            "flex": null,
            "_model_name": "LayoutModel",
            "justify_items": null,
            "grid_row": null,
            "max_height": null,
            "align_content": null,
            "visibility": null,
            "align_self": null,
            "height": null,
            "min_height": null,
            "padding": null,
            "grid_auto_rows": null,
            "grid_gap": null,
            "max_width": null,
            "order": null,
            "_view_module_version": "1.2.0",
            "grid_template_areas": null,
            "object_position": null,
            "object_fit": null,
            "grid_auto_columns": null,
            "margin": null,
            "display": null,
            "left": null
          },
          "model_module_version": "1.2.0"
        },
        "e0a59dc109a04a3facb83c13a6db8c7d": {
          "model_module": "@jupyter-widgets/controls",
          "model_name": "FloatProgressModel",
          "state": {
            "_view_name": "ProgressView",
            "style": "IPY_MODEL_03560ead51514d87851653d583815f53",
            "_dom_classes": [],
            "description": "train_loss=0.6527 ,train_accuracy=21.2266: 100%",
            "_model_name": "FloatProgressModel",
            "bar_style": "success",
            "max": 31250,
            "_view_module": "@jupyter-widgets/controls",
            "_model_module_version": "1.5.0",
            "value": 31250,
            "_view_count": null,
            "_view_module_version": "1.5.0",
            "orientation": "horizontal",
            "min": 0,
            "description_tooltip": null,
            "_model_module": "@jupyter-widgets/controls",
            "layout": "IPY_MODEL_7a25dcc7764a4b2699de62e443e49e39"
          },
          "model_module_version": "1.5.0"
        },
        "83da51bf4aa34534b146bc16091bd1fe": {
          "model_module": "@jupyter-widgets/controls",
          "model_name": "HTMLModel",
          "state": {
            "_view_name": "HTMLView",
            "style": "IPY_MODEL_7f220f77d4b14b01a1b415f032c57af2",
            "_dom_classes": [],
            "description": "",
            "_model_name": "HTMLModel",
            "placeholder": "​",
            "_view_module": "@jupyter-widgets/controls",
            "_model_module_version": "1.5.0",
            "value": " 31250/31250 [24:07&lt;00:00, 21.59it/s]",
            "_view_count": null,
            "_view_module_version": "1.5.0",
            "description_tooltip": null,
            "_model_module": "@jupyter-widgets/controls",
            "layout": "IPY_MODEL_9d110a0a3a7e4bba947225a52b83b7cb"
          },
          "model_module_version": "1.5.0"
        },
        "03560ead51514d87851653d583815f53": {
          "model_module": "@jupyter-widgets/controls",
          "model_name": "ProgressStyleModel",
          "state": {
            "_view_name": "StyleView",
            "_model_name": "ProgressStyleModel",
            "description_width": "initial",
            "_view_module": "@jupyter-widgets/base",
            "_model_module_version": "1.5.0",
            "_view_count": null,
            "_view_module_version": "1.2.0",
            "bar_color": null,
            "_model_module": "@jupyter-widgets/controls"
          },
          "model_module_version": "1.5.0"
        },
        "7a25dcc7764a4b2699de62e443e49e39": {
          "model_module": "@jupyter-widgets/base",
          "model_name": "LayoutModel",
          "state": {
            "_view_name": "LayoutView",
            "grid_template_rows": null,
            "right": null,
            "justify_content": null,
            "_view_module": "@jupyter-widgets/base",
            "overflow": null,
            "_model_module_version": "1.2.0",
            "_view_count": null,
            "flex_flow": null,
            "width": null,
            "min_width": null,
            "border": null,
            "align_items": null,
            "bottom": null,
            "_model_module": "@jupyter-widgets/base",
            "top": null,
            "grid_column": null,
            "overflow_y": null,
            "overflow_x": null,
            "grid_auto_flow": null,
            "grid_area": null,
            "grid_template_columns": null,
            "flex": null,
            "_model_name": "LayoutModel",
            "justify_items": null,
            "grid_row": null,
            "max_height": null,
            "align_content": null,
            "visibility": null,
            "align_self": null,
            "height": null,
            "min_height": null,
            "padding": null,
            "grid_auto_rows": null,
            "grid_gap": null,
            "max_width": null,
            "order": null,
            "_view_module_version": "1.2.0",
            "grid_template_areas": null,
            "object_position": null,
            "object_fit": null,
            "grid_auto_columns": null,
            "margin": null,
            "display": null,
            "left": null
          },
          "model_module_version": "1.2.0"
        },
        "7f220f77d4b14b01a1b415f032c57af2": {
          "model_module": "@jupyter-widgets/controls",
          "model_name": "DescriptionStyleModel",
          "state": {
            "_view_name": "StyleView",
            "_model_name": "DescriptionStyleModel",
            "description_width": "",
            "_view_module": "@jupyter-widgets/base",
            "_model_module_version": "1.5.0",
            "_view_count": null,
            "_view_module_version": "1.2.0",
            "_model_module": "@jupyter-widgets/controls"
          },
          "model_module_version": "1.5.0"
        },
        "9d110a0a3a7e4bba947225a52b83b7cb": {
          "model_module": "@jupyter-widgets/base",
          "model_name": "LayoutModel",
          "state": {
            "_view_name": "LayoutView",
            "grid_template_rows": null,
            "right": null,
            "justify_content": null,
            "_view_module": "@jupyter-widgets/base",
            "overflow": null,
            "_model_module_version": "1.2.0",
            "_view_count": null,
            "flex_flow": null,
            "width": null,
            "min_width": null,
            "border": null,
            "align_items": null,
            "bottom": null,
            "_model_module": "@jupyter-widgets/base",
            "top": null,
            "grid_column": null,
            "overflow_y": null,
            "overflow_x": null,
            "grid_auto_flow": null,
            "grid_area": null,
            "grid_template_columns": null,
            "flex": null,
            "_model_name": "LayoutModel",
            "justify_items": null,
            "grid_row": null,
            "max_height": null,
            "align_content": null,
            "visibility": null,
            "align_self": null,
            "height": null,
            "min_height": null,
            "padding": null,
            "grid_auto_rows": null,
            "grid_gap": null,
            "max_width": null,
            "order": null,
            "_view_module_version": "1.2.0",
            "grid_template_areas": null,
            "object_position": null,
            "object_fit": null,
            "grid_auto_columns": null,
            "margin": null,
            "display": null,
            "left": null
          },
          "model_module_version": "1.2.0"
        }
      }
    }
  },
  "cells": [
    {
      "cell_type": "code",
      "metadata": {
        "id": "WrbQ8Z__Tzuj",
        "colab": {
          "base_uri": "https://localhost:8080/"
        },
        "outputId": "facbf78f-4438-4a20-b7c4-42538b2674bf"
      },
      "source": [
        "from google.colab import drive\n",
        "drive.mount('/content/drive')"
      ],
      "execution_count": null,
      "outputs": [
        {
          "output_type": "stream",
          "text": [
            "Mounted at /content/drive\n"
          ],
          "name": "stdout"
        }
      ]
    },
    {
      "cell_type": "markdown",
      "metadata": {
        "id": "Idlfgx-iXWQO"
      },
      "source": [
        "# Imports"
      ]
    },
    {
      "cell_type": "code",
      "metadata": {
        "id": "UP0Kv8gJLzSS"
      },
      "source": [
        "!pip install einops"
      ],
      "execution_count": null,
      "outputs": []
    },
    {
      "cell_type": "code",
      "metadata": {
        "id": "dzqpUV2LXR5v"
      },
      "source": [
        "import math\n",
        "from einops import rearrange\n",
        "import torch\n",
        "from torch import nn\n",
        "from torchtext.data import Field\n",
        "from torchtext.data import Iterator\n",
        "from torchtext.datasets import TranslationDataset\n",
        "\n",
        "import numpy as np\n",
        "import pandas as pd"
      ],
      "execution_count": null,
      "outputs": []
    },
    {
      "cell_type": "markdown",
      "metadata": {
        "id": "IsDvYYk7XZeG"
      },
      "source": [
        "# Unzipping the dadaset"
      ]
    },
    {
      "cell_type": "markdown",
      "metadata": {
        "id": "fiPIAFngg6ji"
      },
      "source": [
        "### 1"
      ]
    },
    {
      "cell_type": "code",
      "metadata": {
        "id": "IXpA-fNbXR18",
        "colab": {
          "base_uri": "https://localhost:8080/"
        },
        "outputId": "960aca7d-04c5-4aa3-fb8c-aecdb3a3cfb8"
      },
      "source": [
        "!unzip \"/content/drive/MyDrive/deep_lab/numbers__place_value.zip\" -d \"/content/drive/MyDrive/deep_lab\""
      ],
      "execution_count": null,
      "outputs": [
        {
          "output_type": "stream",
          "text": [
            "Archive:  /content/drive/MyDrive/deep_lab/numbers__place_value.zip\n",
            "replace /content/drive/MyDrive/deep_lab/numbers__place_value/train.y? [y]es, [n]o, [A]ll, [N]one, [r]ename: r\n",
            "new name: \n",
            "new name: o\n",
            "  inflating: /content/drive/MyDrive/deep_lab/o  \n",
            "replace /content/drive/MyDrive/deep_lab/numbers__place_value/train.x? [y]es, [n]o, [A]ll, [N]one, [r]ename: \n",
            "error:  invalid response [{ENTER}]\n",
            "replace /content/drive/MyDrive/deep_lab/numbers__place_value/train.x? [y]es, [n]o, [A]ll, [N]one, [r]ename: \n",
            "error:  invalid response [{ENTER}]\n",
            "replace /content/drive/MyDrive/deep_lab/numbers__place_value/train.x? [y]es, [n]o, [A]ll, [N]one, [r]ename: "
          ],
          "name": "stdout"
        }
      ]
    },
    {
      "cell_type": "markdown",
      "metadata": {
        "id": "qdSrmlEkXh9m"
      },
      "source": [
        "### getting familiar with the daset"
      ]
    },
    {
      "cell_type": "code",
      "metadata": {
        "id": "zDRhE-5qYDwj",
        "colab": {
          "base_uri": "https://localhost:8080/",
          "height": 206
        },
        "outputId": "7e18f582-db70-4c33-f476-8afcaa932e00"
      },
      "source": [
        "filename = \"/content/drive/MyDrive/deep_lab/numbers__place_value/train.x\"\n",
        "questions = pd.read_csv(filename, header= None)\n",
        "\n",
        "filename = \"/content/drive/MyDrive/deep_lab/numbers__place_value/interpolate.x\"\n",
        "questions_val = pd.read_csv(filename, header= None)\n",
        "questions.head()"
      ],
      "execution_count": null,
      "outputs": [
        {
          "output_type": "execute_result",
          "data": {
            "text/html": [
              "<div>\n",
              "<style scoped>\n",
              "    .dataframe tbody tr th:only-of-type {\n",
              "        vertical-align: middle;\n",
              "    }\n",
              "\n",
              "    .dataframe tbody tr th {\n",
              "        vertical-align: top;\n",
              "    }\n",
              "\n",
              "    .dataframe thead th {\n",
              "        text-align: right;\n",
              "    }\n",
              "</style>\n",
              "<table border=\"1\" class=\"dataframe\">\n",
              "  <thead>\n",
              "    <tr style=\"text-align: right;\">\n",
              "      <th></th>\n",
              "      <th>0</th>\n",
              "    </tr>\n",
              "  </thead>\n",
              "  <tbody>\n",
              "    <tr>\n",
              "      <th>0</th>\n",
              "      <td>What is the hundreds digit of 31253?</td>\n",
              "    </tr>\n",
              "    <tr>\n",
              "      <th>1</th>\n",
              "      <td>What is the units digit of 8196?</td>\n",
              "    </tr>\n",
              "    <tr>\n",
              "      <th>2</th>\n",
              "      <td>What is the ten thousands digit of 37118?</td>\n",
              "    </tr>\n",
              "    <tr>\n",
              "      <th>3</th>\n",
              "      <td>What is the hundreds digit of 1229?</td>\n",
              "    </tr>\n",
              "    <tr>\n",
              "      <th>4</th>\n",
              "      <td>What is the units digit of 834?</td>\n",
              "    </tr>\n",
              "  </tbody>\n",
              "</table>\n",
              "</div>"
            ],
            "text/plain": [
              "                                           0\n",
              "0       What is the hundreds digit of 31253?\n",
              "1           What is the units digit of 8196?\n",
              "2  What is the ten thousands digit of 37118?\n",
              "3        What is the hundreds digit of 1229?\n",
              "4            What is the units digit of 834?"
            ]
          },
          "metadata": {
            "tags": []
          },
          "execution_count": 5
        }
      ]
    },
    {
      "cell_type": "code",
      "metadata": {
        "colab": {
          "base_uri": "https://localhost:8080/",
          "height": 206
        },
        "id": "TnqE9JNH0Jhf",
        "outputId": "709f919d-d342-43c0-f8b0-608e147af55f"
      },
      "source": [
        "filename = \"/content/drive/MyDrive/deep_lab/numbers__place_value/train.y\"\n",
        "answers = pd.read_csv(filename, header= None)\n",
        "\n",
        "filename = \"/content/drive/MyDrive/deep_lab/numbers__place_value/interpolate.y\"\n",
        "answers_val = pd.read_csv(filename, header= None)\n",
        "answers.head()"
      ],
      "execution_count": null,
      "outputs": [
        {
          "output_type": "execute_result",
          "data": {
            "text/html": [
              "<div>\n",
              "<style scoped>\n",
              "    .dataframe tbody tr th:only-of-type {\n",
              "        vertical-align: middle;\n",
              "    }\n",
              "\n",
              "    .dataframe tbody tr th {\n",
              "        vertical-align: top;\n",
              "    }\n",
              "\n",
              "    .dataframe thead th {\n",
              "        text-align: right;\n",
              "    }\n",
              "</style>\n",
              "<table border=\"1\" class=\"dataframe\">\n",
              "  <thead>\n",
              "    <tr style=\"text-align: right;\">\n",
              "      <th></th>\n",
              "      <th>0</th>\n",
              "    </tr>\n",
              "  </thead>\n",
              "  <tbody>\n",
              "    <tr>\n",
              "      <th>0</th>\n",
              "      <td>2</td>\n",
              "    </tr>\n",
              "    <tr>\n",
              "      <th>1</th>\n",
              "      <td>6</td>\n",
              "    </tr>\n",
              "    <tr>\n",
              "      <th>2</th>\n",
              "      <td>3</td>\n",
              "    </tr>\n",
              "    <tr>\n",
              "      <th>3</th>\n",
              "      <td>2</td>\n",
              "    </tr>\n",
              "    <tr>\n",
              "      <th>4</th>\n",
              "      <td>4</td>\n",
              "    </tr>\n",
              "  </tbody>\n",
              "</table>\n",
              "</div>"
            ],
            "text/plain": [
              "   0\n",
              "0  2\n",
              "1  6\n",
              "2  3\n",
              "3  2\n",
              "4  4"
            ]
          },
          "metadata": {
            "tags": []
          },
          "execution_count": 66
        }
      ]
    },
    {
      "cell_type": "code",
      "metadata": {
        "colab": {
          "base_uri": "https://localhost:8080/"
        },
        "id": "tBBSBAQvhbQj",
        "outputId": "1cccedfa-ca5d-4e6f-f1a5-51df102d7e1a"
      },
      "source": [
        "questions = np.array(questions)\n",
        "answers = np.array(answers)\n",
        "num_chars = 0\n",
        "num_sentences = questions.shape[0]\n",
        "num_words = 0\n",
        "for txt in questions:\n",
        "  num_chars = num_chars + len(list(txt[0]))\n",
        "  num_words = num_words + len(txt[0].split())\n",
        "print('\\n\\nTrain set:')\n",
        "print('number of sentences: ', num_sentences)\n",
        "print('number of words: ', num_words)\n",
        "print('number of charachters: ', num_chars)\n",
        "print('average question length:', num_chars/num_sentences )\n",
        "\n",
        "num_chars = 0\n",
        "num_sentences = answers.shape[0]\n",
        "for txt in answers:\n",
        "  txt = str(txt[0])\n",
        "  num_chars = num_chars + len(list(txt))\n",
        "  num_words = num_words + len(txt.split())\n",
        "print('average answer length:', num_chars/num_sentences )\n",
        "\n",
        "\n",
        "questions_val = np.array(questions_val)\n",
        "answers_val = np.array(answers_val)\n",
        "num_chars = 0\n",
        "num_sentences = questions_val.shape[0]\n",
        "num_words = 0\n",
        "for txt in questions_val:\n",
        "  num_chars = num_chars + len(list(txt[0]))\n",
        "  num_words = num_words + len(txt[0].split())\n",
        "print('\\n\\nVlidation set:')\n",
        "print('number of sentences: ', num_sentences)\n",
        "print('number of words: ', num_words)\n",
        "print('number of charachters: ', num_chars)\n",
        "print('average question length:', num_chars/num_sentences )\n",
        "\n",
        "num_chars = 0\n",
        "num_sentences = answers_val.shape[0]\n",
        "for txt in answers_val:\n",
        "  txt = str(txt[0])\n",
        "  num_chars = num_chars + len(list(txt))\n",
        "  num_words = num_words + len(txt.split())\n",
        "print('average answer length:', num_chars/num_sentences )"
      ],
      "execution_count": null,
      "outputs": [
        {
          "output_type": "stream",
          "text": [
            "\n",
            "\n",
            "Train set:\n",
            "number of sentences:  1999998\n",
            "number of words:  14531838\n",
            "number of charachters:  76429949\n",
            "average question length: 38.21501271501271\n",
            "average answer length: 1.0\n",
            "\n",
            "\n",
            "Vlidation set:\n",
            "number of sentences:  10000\n",
            "number of words:  73641\n",
            "number of charachters:  403219\n",
            "average question length: 40.3219\n",
            "average answer length: 1.0\n"
          ],
          "name": "stdout"
        }
      ]
    },
    {
      "cell_type": "markdown",
      "metadata": {
        "id": "4I95Lx6j4hT8"
      },
      "source": [
        "### 3"
      ]
    },
    {
      "cell_type": "code",
      "metadata": {
        "colab": {
          "base_uri": "https://localhost:8080/"
        },
        "id": "MmS_5nbK3fMM",
        "outputId": "4928b53d-61cf-4149-bd80-5fba87cb451e"
      },
      "source": [
        "raw_text = \"\"\n",
        "for txt in questions:\n",
        "  raw_text = raw_text + txt[0]\n",
        "chars = sorted(list(set(raw_text)))\n",
        "print('number of unique charachters(vocab size): ', len(chars))"
      ],
      "execution_count": null,
      "outputs": [
        {
          "output_type": "stream",
          "text": [
            "number of unique charachters(vocab size):  29\n"
          ],
          "name": "stdout"
        }
      ]
    },
    {
      "cell_type": "markdown",
      "metadata": {
        "id": "tm2UJiFg5dBJ"
      },
      "source": [
        "# preparing the dataset to train and test the model"
      ]
    },
    {
      "cell_type": "code",
      "metadata": {
        "colab": {
          "base_uri": "https://localhost:8080/"
        },
        "id": "3umVOufwBkXO",
        "outputId": "9fbd6a1e-40a2-4873-d5c6-95b48385c783"
      },
      "source": [
        "device = torch.device(\"cuda:0\" if torch.cuda.is_available() else \"cpu\")\n",
        "print(device)"
      ],
      "execution_count": null,
      "outputs": [
        {
          "output_type": "stream",
          "text": [
            "cuda:0\n"
          ],
          "name": "stdout"
        }
      ]
    },
    {
      "cell_type": "code",
      "metadata": {
        "id": "IvuNVMIh5ZYz"
      },
      "source": [
        "split_chars = lambda x: list(x)\n",
        "folder = '/content/drive/MyDrive/deep_lab/numbers__place_value/'\n",
        "TRAIN_FILE_NAME = \"train\"\n",
        "VALID_FILE_NAME = \"interpolate\"\n",
        "\n",
        "INPUTS_FILE_ENDING = \".x\"\n",
        "TARGETS_FILE_ENDING = \".y\"\n",
        "\n",
        "source_field = Field(tokenize=split_chars ,\n",
        "                    init_token='<sos>',\n",
        "                    eos_token='<eos>',\n",
        "                    batch_first=True)\n",
        "target_field = Field(tokenize=split_chars ,\n",
        "                    init_token='<sos>',\n",
        "                    eos_token='<eos>',\n",
        "                    batch_first=True)\n",
        "\n",
        "\n",
        "train_dataset , valid_dataset , _ = TranslationDataset.splits(\n",
        "    path=folder ,\n",
        "    root=folder ,\n",
        "    exts=(INPUTS_FILE_ENDING , TARGETS_FILE_ENDING),\n",
        "    fields=(source_field , target_field),\n",
        "    train=TRAIN_FILE_NAME ,\n",
        "    validation=VALID_FILE_NAME,\n",
        "    test=VALID_FILE_NAME)"
      ],
      "execution_count": null,
      "outputs": []
    },
    {
      "cell_type": "code",
      "metadata": {
        "id": "aBicguYEBIh9"
      },
      "source": [
        "train_bs = 64\n",
        "train_iterator = Iterator(\n",
        "    dataset=train_dataset ,\n",
        "    batch_size=train_bs ,\n",
        "    train=True,\n",
        "    repeat=False,\n",
        "    shuffle=True,\n",
        "    device=device)\n",
        "\n",
        "val_iterator = Iterator(\n",
        "    dataset=valid_dataset ,\n",
        "    batch_size=train_bs ,\n",
        "    train=False,\n",
        "    repeat=False,\n",
        "    shuffle=False,\n",
        "    device=device)"
      ],
      "execution_count": null,
      "outputs": []
    },
    {
      "cell_type": "code",
      "metadata": {
        "colab": {
          "base_uri": "https://localhost:8080/"
        },
        "id": "iwUAicAiB8pm",
        "outputId": "81e9cce4-8b45-4063-ac3c-29d3024a2300"
      },
      "source": [
        "train_iterator"
      ],
      "execution_count": null,
      "outputs": [
        {
          "output_type": "execute_result",
          "data": {
            "text/plain": [
              "<torchtext.data.iterator.Iterator at 0x7fa648196908>"
            ]
          },
          "metadata": {
            "tags": []
          },
          "execution_count": 75
        }
      ]
    },
    {
      "cell_type": "code",
      "metadata": {
        "id": "hkvEEDTtCg-g"
      },
      "source": [
        "source_field.build_vocab(train_dataset)\n",
        "target_field.build_vocab(valid_dataset)"
      ],
      "execution_count": null,
      "outputs": []
    },
    {
      "cell_type": "code",
      "metadata": {
        "colab": {
          "base_uri": "https://localhost:8080/"
        },
        "id": "0tBZD9_0Cw9S",
        "outputId": "b0f83257-8d43-479a-a851-86f5073d40fe"
      },
      "source": [
        "vocabs = source_field.vocab.stoi\n",
        "int2vocab = {}\n",
        "for k in vocabs.keys():\n",
        "    int2vocab[vocabs[k]] = k\n",
        "print(int2vocab[5])\n",
        "len(vocabs)"
      ],
      "execution_count": null,
      "outputs": [
        {
          "output_type": "stream",
          "text": [
            "t\n"
          ],
          "name": "stdout"
        },
        {
          "output_type": "execute_result",
          "data": {
            "text/plain": [
              "33"
            ]
          },
          "metadata": {
            "tags": []
          },
          "execution_count": 10
        }
      ]
    },
    {
      "cell_type": "code",
      "metadata": {
        "colab": {
          "base_uri": "https://localhost:8080/"
        },
        "id": "fAlHkv4FEGeQ",
        "outputId": "d7db5956-26f7-4116-a6ce-821db7a91c0e"
      },
      "source": [
        "target_vocabs = target_field.vocab.stoi\n",
        "int2vocab = {}\n",
        "for k in target_vocabs.keys():\n",
        "    int2vocab[target_vocabs[k]] = k\n",
        "print(int2vocab[5])\n",
        "len(target_vocabs)"
      ],
      "execution_count": null,
      "outputs": [
        {
          "output_type": "stream",
          "text": [
            "2\n"
          ],
          "name": "stdout"
        },
        {
          "output_type": "execute_result",
          "data": {
            "text/plain": [
              "14"
            ]
          },
          "metadata": {
            "tags": []
          },
          "execution_count": 12
        }
      ]
    },
    {
      "cell_type": "code",
      "metadata": {
        "colab": {
          "base_uri": "https://localhost:8080/"
        },
        "id": "l0yVxIVnCAAb",
        "outputId": "bee896eb-23eb-49ac-c9cd-b688ae2eda73"
      },
      "source": [
        "vocabs"
      ],
      "execution_count": null,
      "outputs": [
        {
          "output_type": "execute_result",
          "data": {
            "text/plain": [
              "defaultdict(<function torchtext.vocab._default_unk_index>,\n",
              "            {' ': 4,\n",
              "             '0': 28,\n",
              "             '1': 18,\n",
              "             '2': 20,\n",
              "             '3': 21,\n",
              "             '4': 22,\n",
              "             '5': 23,\n",
              "             '6': 24,\n",
              "             '7': 25,\n",
              "             '8': 26,\n",
              "             '9': 27,\n",
              "             '<eos>': 3,\n",
              "             '<pad>': 1,\n",
              "             '<sos>': 2,\n",
              "             '<unk>': 0,\n",
              "             '?': 14,\n",
              "             'W': 15,\n",
              "             'a': 12,\n",
              "             'b': 32,\n",
              "             'd': 9,\n",
              "             'e': 10,\n",
              "             'f': 16,\n",
              "             'g': 17,\n",
              "             'h': 7,\n",
              "             'i': 6,\n",
              "             'l': 30,\n",
              "             'm': 31,\n",
              "             'n': 13,\n",
              "             'o': 11,\n",
              "             'r': 29,\n",
              "             's': 8,\n",
              "             't': 5,\n",
              "             'u': 19})"
            ]
          },
          "metadata": {
            "tags": []
          },
          "execution_count": 80
        }
      ]
    },
    {
      "cell_type": "code",
      "metadata": {
        "id": "Xvha6vxxcc3-",
        "colab": {
          "base_uri": "https://localhost:8080/"
        },
        "outputId": "d964782d-14c6-41e8-b9b9-f1e08df02290"
      },
      "source": [
        "target_vocabs"
      ],
      "execution_count": null,
      "outputs": [
        {
          "output_type": "execute_result",
          "data": {
            "text/plain": [
              "defaultdict(<function torchtext.vocab._default_unk_index>,\n",
              "            {'0': 13,\n",
              "             '1': 4,\n",
              "             '2': 5,\n",
              "             '3': 7,\n",
              "             '4': 9,\n",
              "             '5': 11,\n",
              "             '6': 12,\n",
              "             '7': 10,\n",
              "             '8': 8,\n",
              "             '9': 6,\n",
              "             '<eos>': 3,\n",
              "             '<pad>': 1,\n",
              "             '<sos>': 2,\n",
              "             '<unk>': 0})"
            ]
          },
          "metadata": {
            "tags": []
          },
          "execution_count": 81
        }
      ]
    },
    {
      "cell_type": "code",
      "metadata": {
        "colab": {
          "base_uri": "https://localhost:8080/"
        },
        "id": "L4tMhg5eDEUd",
        "outputId": "fe7e71e8-9e06-43c0-fa73-8dd7ff282e71"
      },
      "source": [
        "b = next(iter(train_iterator))\n",
        "vars(b).keys()"
      ],
      "execution_count": null,
      "outputs": [
        {
          "output_type": "execute_result",
          "data": {
            "text/plain": [
              "dict_keys(['batch_size', 'dataset', 'fields', 'input_fields', 'target_fields', 'src', 'trg'])"
            ]
          },
          "metadata": {
            "tags": []
          },
          "execution_count": 13
        }
      ]
    },
    {
      "cell_type": "code",
      "metadata": {
        "colab": {
          "base_uri": "https://localhost:8080/"
        },
        "id": "co8jiF3TDlzg",
        "outputId": "74fbec53-19cf-4c72-fa83-9cf404d49c52"
      },
      "source": [
        "print('source: ',b.src[0], '\\n\\ntarget: ', b.trg[0])"
      ],
      "execution_count": null,
      "outputs": [
        {
          "output_type": "stream",
          "text": [
            "source:  tensor([ 2, 15,  7, 12,  5,  4,  6,  8,  4,  5,  7, 10,  4,  7, 19, 13,  9, 29,\n",
            "        10,  9,  8,  4,  9,  6, 17,  6,  5,  4, 11, 16,  4, 18, 26, 28, 23, 24,\n",
            "        22, 28, 23, 25, 14,  3,  1,  1,  1,  1,  1,  1,  1,  1,  1,  1],\n",
            "       device='cuda:0') \n",
            "\n",
            "target:  tensor([ 2, 13,  3], device='cuda:0')\n"
          ],
          "name": "stdout"
        }
      ]
    },
    {
      "cell_type": "markdown",
      "metadata": {
        "id": "lh4CFulgENPP"
      },
      "source": [
        "\n",
        "# creatin gthe model"
      ]
    },
    {
      "cell_type": "markdown",
      "metadata": {
        "id": "riPkA3jvuSGT"
      },
      "source": [
        "## 1"
      ]
    },
    {
      "cell_type": "code",
      "metadata": {
        "id": "0vm-7E04D09e"
      },
      "source": [
        "class PositionalEncoder(nn.Module):\n",
        "  def __init__(self, d_model, dropout=0.1, max_len=5000):\n",
        "    super(PositionalEncoder, self).__init__()\n",
        "    self.dropout = nn.Dropout(p=dropout)\n",
        "\n",
        "    pe = torch.zeros(max_len, d_model)\n",
        "    position = torch.arange(0, max_len, dtype=torch.float).unsqueeze(1)\n",
        "    div_term = torch.exp(torch.arange(0, d_model, 2).float() * (-math.log(10000.0) / d_model))\n",
        "    pe[:, 0::2] = torch.sin(position * div_term)\n",
        "    pe[:, 1::2] = torch.cos(position * div_term)\n",
        "    pe = pe.unsqueeze(0).transpose(0, 1)\n",
        "    self.register_buffer('pe', pe)\n",
        "\n",
        "  def forward(self, x):\n",
        "    x = x + self.pe[:x.size(0), :]\n",
        "    return x"
      ],
      "execution_count": null,
      "outputs": []
    },
    {
      "cell_type": "code",
      "metadata": {
        "id": "QBxqtV7DJksw"
      },
      "source": [
        "# class EncoderModel(nn.Module):\n",
        "#   def __init__(self, ntoken, d_model, nlayers, nhead, nhid, dropout = 0.1, max_len = 5000):\n",
        "#     super(EncoderModel, self).__init__()\n",
        "\n",
        "#     self.ntoken = ntoken\n",
        "#     self.d_model = d_model\n",
        "#     self.nlayers = nlayers\n",
        "#     self.nhead = nhead\n",
        "#     self.nhid = nhid\n",
        "#     self.dropout = dropout\n",
        "\n",
        "#     self.embedding = nn.Embedding(self.ntoken, self.d_model)\n",
        "#     self.pe = PositionalEncoder(self.d_model, dropout=self.dropout,\n",
        "#                                 max_len=max_len)\n",
        "#     layers = nn.TransformerEncoderLayer(d_model=self.d_model,\n",
        "#                                         nhead=self.nhead,\n",
        "#                                         dim_feedforward=self.nhid)#,dropout=self.dropout)\n",
        "#     self.transformer_encoder = nn.TransformerEncoder(encoder_layer=layers, num_layers=self.nlayers)\n",
        "#   def forward(self, src, src_pad_mask):\n",
        "#     \"\"\"\n",
        "#     Shapes:\n",
        "#         src : (source sequence length, batch size)\n",
        "#         src_pad_mask : (batch size, source sequence length)\n",
        "#     \"\"\"\n",
        "#     embeds = self.embedding(src)\n",
        "#     pes = self.pe(embeds)\n",
        "#     encoded = self.transformer_encoder(pes, src_key_padding_mask=src_pad_mask)\n",
        "#     return encoded"
      ],
      "execution_count": null,
      "outputs": []
    },
    {
      "cell_type": "code",
      "metadata": {
        "id": "6y4urLRJO0QI"
      },
      "source": [
        "# class DecoderModel(nn.Module):\n",
        "#   def __init__(self, ntoken, d_model, nlayers, nhead, nhid, dropout = 0.1, max_len = 5000):\n",
        "#     super(DecoderModel, self).__init__()\n",
        "#     self.ntoken = ntoken\n",
        "#     self.d_model = d_model\n",
        "#     self.nlayers = nlayers\n",
        "#     self.nhead = nhead\n",
        "#     self.nhid = nhid\n",
        "#     self.dropout = dropout\n",
        "\n",
        "#     self.embedding = nn.Embedding(self.ntoken, self.d_model)\n",
        "#     self.pe = PositionalEncoder(d_model=self.d_model, dropout=self.dropout, max_len=max_len)\n",
        "#     layer = nn.TransformerDecoderLayer(d_model=self.d_model,\n",
        "#                                        nhead=self.nhead,\n",
        "#                                        dim_feedforward=self.nhid)#,dropout=self.dropout)\n",
        "#     self.transformer_decoder = nn.TransformerDecoder(decoder_layer=layer,\n",
        "#                                             num_layers=self.nlayers)\n",
        "\n",
        "#   def forward(self, tgt, memory, tgt_mask, tgt_pad_mask, mem_pad_mask):\n",
        "#     \"\"\"\n",
        "#     Shapes:\n",
        "#         tgt: (target sequence length, batch size)`\n",
        "#         memory: (source sequece length, batch size, feature number)\n",
        "#         tgt_mask: (target sequence length, target sequence length)\n",
        "#         tgt_pad_mask: (batch size, target sequence length)\n",
        "#         mem_pad_mask: (batch size, memory sequence length)\n",
        "#     \"\"\"\n",
        "#     embeds = self.embedding(tgt)\n",
        "#     pes = self.pe(embeds)\n",
        "#     decoded = self.transformer_decoder(tgt=pes, memory=memory, tgt_mask=tgt_mask,\n",
        "#                                        tgt_key_padding_mask=tgt_pad_mask,\n",
        "#                                        memory_key_padding_mask=mem_pad_mask)\n",
        "\n",
        "#     return decoded\n"
      ],
      "execution_count": null,
      "outputs": []
    },
    {
      "cell_type": "code",
      "metadata": {
        "id": "gAbetHrObG2f"
      },
      "source": [
        "class TransformerModel(nn.Module):\n",
        "  def __init__(self, ntoken_src, ntoken_trg, d_model, nlayers_enc, nlayers_dec, nhead, nfeed, dropout = 0.1, max_len = 5000):\n",
        "    super(TransformerModel, self).__init__()\n",
        "\n",
        "    self.ntoken_src = ntoken_src\n",
        "    self.ntoken_trg = ntoken_trg\n",
        "    self.d_model = d_model\n",
        "    self.nlayers_enc = nlayers_enc\n",
        "    self.nlayers_dec = nlayers_dec\n",
        "    self.nhead = nhead\n",
        "    self.dropout = dropout\n",
        "    self.max_len = max_len\n",
        "    self.nfeed = nfeed\n",
        "    self.embedding_src = nn.Embedding(self.ntoken_src, self.d_model)\n",
        "    self.embedding_trg = nn.Embedding(self.ntoken_trg, self.d_model)\n",
        "    self.pe = PositionalEncoder(d_model=self.d_model, dropout=self.dropout, max_len=max_len)\n",
        "    self.transformer = nn.Transformer(self.d_model, self.nhead, self.nlayers_enc, self.nlayers_dec, self.nfeed)\n",
        "    # self.encoder = EncoderModel(self.ntoken_src, self.d_model, self.nlayers_enc,\n",
        "    #                        self.nhead, nhid = self.nhid, dropout=self.dropout, max_len = self.max_len)\n",
        "    # self.decoder = DecoderModel(self.ntoken_trg, self.d_model, self.nlayers_dec,\n",
        "    #                        self.nhead, nhid = self.nhid, dropout=self.dropout, max_len = self.max_len)\n",
        "    self.linear = nn.Linear(d_model, ntoken_trg)\n",
        "  def forward(self, src, tgt, tgt_mask, src_pad_mask, tgt_pad_mask, mem_pad_mask):\n",
        "    src = self.embedding_src(src)\n",
        "    src = self.pe(src)\n",
        "\n",
        "    tgt = self.embedding_trg(tgt)\n",
        "    tgt = self.pe(tgt)\n",
        "    decoded = self.transformer(src, tgt, tgt_mask=tgt_mask, src_key_padding_mask=src_pad_mask, tgt_key_padding_mask=tgt_pad_mask,\n",
        "                               memory_key_padding_mask=mem_pad_mask)\n",
        "    # encoded = self.encoder(src, src_pad_mask)\n",
        "    # decoded = self.decoder(tgt, encoded, tgt_mask, tgt_pad_mask, mem_pad_mask)\n",
        "    #print('decoded.shape ', decoded.shape)\n",
        "    out = rearrange(decoded, 't n e -> n t e')\n",
        "    out = self.linear(out)\n",
        "    out = rearrange(out, 'n t e -> n e t')\n",
        "    return out\n",
        "\n",
        "  def generate_square_subsequent_mask(self, sz):\n",
        "    \"\"\"\n",
        "      This is copied from nn.Transformer and it uses 0, -inf to pad\n",
        "    \"\"\"\n",
        "    mask = (torch.triu(torch.ones(sz, sz)) == 1).transpose(0, 1)\n",
        "    mask = mask.float().masked_fill(mask == 0, float('-inf')).masked_fill(mask == 1, float(0.0))\n",
        "    return mask\n",
        "\n",
        "  def gen_pad_masks(self, src, target, pad_token, src_len, target_len, batch_size = 512):\n",
        "    src_pad_mask = (src == pad_token).transpose(1, 0)\n",
        "    tgt_pad_mask = (target == pad_token).transpose(1, 0)\n",
        "    mem_pad_mask = src_pad_mask.clone()\n",
        "    return src_pad_mask, tgt_pad_mask, mem_pad_mask"
      ],
      "execution_count": null,
      "outputs": []
    },
    {
      "cell_type": "markdown",
      "metadata": {
        "id": "DfP2bSHhuPw4"
      },
      "source": [
        "## simpple test of the model"
      ]
    },
    {
      "cell_type": "code",
      "metadata": {
        "colab": {
          "base_uri": "https://localhost:8080/"
        },
        "id": "QM8NSZTS3opl",
        "outputId": "7fb651ec-3129-4328-cff5-eeead0a00617"
      },
      "source": [
        "ntoken = len(vocabs)\n",
        "ntoken_trg = len(target_vocabs)\n",
        "d_model = 256\n",
        "nhead = 8\n",
        "nlayers = 8\n",
        "nfeed= 1024\n",
        "pad_token = 1\n",
        "# instantiations\n",
        "model = TransformerModel(ntoken,ntoken_trg, d_model, nlayers, nlayers, nhead, nfeed).to(device)\n",
        "src = b.src\n",
        "src = src.reshape(src.shape[1], src.shape[0])\n",
        "tgt = b.trg\n",
        "tgt = tgt.reshape(tgt.shape[1], tgt.shape[0])\n",
        "# masks\n",
        "src_pad_mask, tgt_pad_mask, mem_pad_mask = model.gen_pad_masks(src,\n",
        "                                                                 tgt, pad_token,\n",
        "                                                                 src.shape[0],\n",
        "                                                                 tgt.shape[0], batch_size = 64)\n",
        "src_pad_mask = src_pad_mask.to(device)\n",
        "tgt_pad_mask = tgt_pad_mask.to(device)\n",
        "mem_pad_mask = mem_pad_mask.to(device)\n",
        "tgt_mask = model.generate_square_subsequent_mask(tgt.shape[0]).to(device)\n",
        "\n",
        "output = model( src, tgt, tgt_mask, src_pad_mask, tgt_pad_mask, mem_pad_mask)\n",
        "print(output.shape)"
      ],
      "execution_count": null,
      "outputs": [
        {
          "output_type": "stream",
          "text": [
            "torch.Size([64, 14, 3])\n"
          ],
          "name": "stdout"
        }
      ]
    },
    {
      "cell_type": "code",
      "metadata": {
        "colab": {
          "base_uri": "https://localhost:8080/"
        },
        "id": "SFbFr8wrDUxf",
        "outputId": "7afeec16-9d4c-4e58-de87-a8a7da50b0a9"
      },
      "source": [
        "output"
      ],
      "execution_count": null,
      "outputs": [
        {
          "output_type": "execute_result",
          "data": {
            "text/plain": [
              "torch.Size([62, 14, 2])"
            ]
          },
          "metadata": {
            "tags": []
          },
          "execution_count": 42
        }
      ]
    },
    {
      "cell_type": "markdown",
      "metadata": {
        "id": "yYeo5pLyz14d"
      },
      "source": [
        "# creating a function to predict"
      ]
    },
    {
      "cell_type": "code",
      "metadata": {
        "id": "vr1a9Kgs9Z4_"
      },
      "source": [
        "def greedy_search(model, src_val, batch_size, sos_token = 2, pad_token = 1, c1 = 3, c2 = 52):\n",
        "  #softmax = nn.Softmax(-1)\n",
        "  init_dec = torch.ones(1, batch_size, dtype=torch.long)*sos_token\n",
        "  init_dec = init_dec.to(device)\n",
        "  src_pad_mask, tgt_pad_mask, mem_pad_mask = model.gen_pad_masks(src_val,\n",
        "                                                                 init_dec, pad_token,\n",
        "                                                                 src_val.shape[0],\n",
        "                                                                 init_dec.shape[0], batch_size = batch_size)\n",
        "\n",
        "  src_pad_mask = src_pad_mask.to(device)\n",
        "  tgt_pad_mask = tgt_pad_mask.to(device)\n",
        "  mem_pad_mask = mem_pad_mask.to(device)\n",
        "\n",
        "  src_val_embed = model.embedding_src(src_val)\n",
        "  src_val_embed = model.pe(src_val_embed)\n",
        "\n",
        "  memory = model.transformer.encoder(src_val_embed, src_key_padding_mask=src_pad_mask)\n",
        "  tgt_mask = model.generate_square_subsequent_mask(init_dec.shape[0]).to(device)\n",
        "\n",
        "  init_dec_emb = model.embedding_trg(init_dec)\n",
        "  init_dec_emb = model.pe(init_dec_emb)\n",
        "\n",
        "  dec_out = model.transformer.decoder(init_dec_emb, memory, tgt_mask, tgt_key_padding_mask=tgt_pad_mask, memory_key_padding_mask=mem_pad_mask)\n",
        "  #dec_out = softmax(dec_out)\n",
        "  dec_out = rearrange(dec_out, 't n e -> n t e')\n",
        "  out = model.linear(dec_out)\n",
        "\n",
        "  loss_out = out.clone()\n",
        "  argmax = out.argmax(-1)\n",
        "  argmax = rearrange(argmax, 'n t -> t n')\n",
        "\n",
        "  init_dec = torch.cat([init_dec, argmax])\n",
        "  dec_in = init_dec.clone()\n",
        "  c2_ = 0\n",
        "  c1_ = 0\n",
        "  while c1_ < c1 and c2_ < c2:\n",
        "    c2_ += 1\n",
        "    src_pad_mask, tgt_pad_mask, mem_pad_mask = model.gen_pad_masks(src_val,\n",
        "                                                                   dec_in, pad_token,\n",
        "                                                                   src_val.shape[0],\n",
        "                                                                   dec_in.shape[0], batch_size = batch_size)\n",
        "\n",
        "    src_pad_mask = src_pad_mask.to(device)\n",
        "    tgt_pad_mask = tgt_pad_mask.to(device)\n",
        "    mem_pad_mask = mem_pad_mask.to(device)\n",
        "    tgt_mask = model.generate_square_subsequent_mask(dec_in.shape[0]).to(device)\n",
        "\n",
        "    dec_in_embed = model.embedding_src(dec_in)\n",
        "    dec_in_embed = model.pe(dec_in_embed)\n",
        "    dec_out = model.transformer.decoder(dec_in_embed, memory, tgt_mask, tgt_key_padding_mask=tgt_pad_mask, memory_key_padding_mask=mem_pad_mask)\n",
        "    #dec_out = softmax(dec_out)\n",
        "    dec_out = rearrange(dec_out, 't n e -> n t e')\n",
        "    out = model.linear(dec_out)\n",
        "\n",
        "    loss_out = torch.cat([loss_out, out[:, -1, :].unsqueeze(1)], dim=1)\n",
        "\n",
        "    argmax = out.argmax(-1)\n",
        "    argmax = rearrange(argmax, 'n t -> t n')\n",
        "    init_dec = torch.cat([init_dec, argmax[-1:]])\n",
        "    dec_in = init_dec.clone()\n",
        "    c1_ = dec_in.shape[0]\n",
        "\n",
        "  loss_out = rearrange(loss_out, 'n t e -> n e t')\n",
        "  init_dec = rearrange(init_dec[1:], 't n -> n t')\n",
        "\n",
        "  return init_dec, loss_out"
      ],
      "execution_count": null,
      "outputs": []
    },
    {
      "cell_type": "code",
      "metadata": {
        "id": "87-Gwj5qLgCp"
      },
      "source": [
        "ntoken = len(vocabs)\n",
        "ntoken_trg = len(target_vocabs)\n",
        "d_model = 256\n",
        "nhead = 8\n",
        "nlayers = 8\n",
        "nfeed = 1024\n",
        "pad_token = 1\n",
        "# instantiations\n",
        "model = TransformerModel(ntoken,ntoken_trg, d_model, nlayers, nlayers, nhead, nfeed).to(device)"
      ],
      "execution_count": null,
      "outputs": []
    },
    {
      "cell_type": "code",
      "metadata": {
        "colab": {
          "base_uri": "https://localhost:8080/"
        },
        "id": "Zsml53ZOmhmI",
        "outputId": "ae39cee8-165d-4930-8c2c-775289c38385"
      },
      "source": [
        "src = b.src\n",
        "src.shape"
      ],
      "execution_count": null,
      "outputs": [
        {
          "output_type": "execute_result",
          "data": {
            "text/plain": [
              "torch.Size([64, 52])"
            ]
          },
          "metadata": {
            "tags": []
          },
          "execution_count": 24
        }
      ]
    },
    {
      "cell_type": "code",
      "metadata": {
        "id": "hrSOAK6yMDvO"
      },
      "source": [
        "src = b.src\n",
        "src = src.reshape(src.shape[1], src.shape[0])\n",
        "tgt = b.trg\n",
        "tgt = tgt.reshape(tgt.shape[1], tgt.shape[0])\n",
        "dec_out = greedy_search(model, src, batch_size = 64, sos_token = 2, pad_token = 1, c1 = tgt.shape[0], c2 = src.shape[0])"
      ],
      "execution_count": null,
      "outputs": []
    },
    {
      "cell_type": "code",
      "metadata": {
        "colab": {
          "base_uri": "https://localhost:8080/"
        },
        "id": "19o-5EoWDeKE",
        "outputId": "51b921f5-e660-4aa9-a4b9-df40e2c912c0"
      },
      "source": [
        "dec_out[0].shape"
      ],
      "execution_count": null,
      "outputs": [
        {
          "output_type": "execute_result",
          "data": {
            "text/plain": [
              "torch.Size([64, 2])"
            ]
          },
          "metadata": {
            "tags": []
          },
          "execution_count": 48
        }
      ]
    },
    {
      "cell_type": "code",
      "metadata": {
        "colab": {
          "base_uri": "https://localhost:8080/"
        },
        "id": "OPn0obfpDpml",
        "outputId": "162d3a0b-7a3c-448f-c0df-e22793e858d7"
      },
      "source": [
        "dec_out[0]"
      ],
      "execution_count": null,
      "outputs": [
        {
          "output_type": "execute_result",
          "data": {
            "text/plain": [
              "tensor([[ 8,  3],\n",
              "        [ 7,  3],\n",
              "        [13,  3],\n",
              "        [ 8,  3],\n",
              "        [13,  3],\n",
              "        [13,  3],\n",
              "        [ 7,  3],\n",
              "        [ 7,  3],\n",
              "        [ 7,  3],\n",
              "        [ 7,  3],\n",
              "        [10,  3],\n",
              "        [12,  3],\n",
              "        [10,  3],\n",
              "        [10,  3],\n",
              "        [13,  3],\n",
              "        [ 9,  3],\n",
              "        [10,  3],\n",
              "        [10,  3],\n",
              "        [ 7,  3],\n",
              "        [ 9,  3],\n",
              "        [ 4,  3],\n",
              "        [ 4,  3],\n",
              "        [ 7,  3],\n",
              "        [13,  3],\n",
              "        [ 9,  3],\n",
              "        [13,  3],\n",
              "        [13,  3],\n",
              "        [ 4,  3],\n",
              "        [ 5,  3],\n",
              "        [10,  3],\n",
              "        [10,  3],\n",
              "        [ 5,  3],\n",
              "        [10,  3],\n",
              "        [ 7,  3],\n",
              "        [ 4,  3],\n",
              "        [ 5,  3],\n",
              "        [ 9,  3],\n",
              "        [ 5,  3],\n",
              "        [12,  3],\n",
              "        [ 9,  3],\n",
              "        [ 5,  3],\n",
              "        [ 6,  3],\n",
              "        [12,  3],\n",
              "        [ 4,  3],\n",
              "        [11,  3],\n",
              "        [ 7,  3],\n",
              "        [ 4,  3],\n",
              "        [ 5,  3],\n",
              "        [ 9,  3],\n",
              "        [ 7,  3],\n",
              "        [ 5,  3],\n",
              "        [ 7,  3],\n",
              "        [ 8,  3],\n",
              "        [13,  3],\n",
              "        [ 8,  3],\n",
              "        [12,  3],\n",
              "        [11,  3],\n",
              "        [11,  3],\n",
              "        [ 5,  3],\n",
              "        [11,  3],\n",
              "        [ 7,  3],\n",
              "        [10,  3],\n",
              "        [13,  3],\n",
              "        [ 8,  3]], device='cuda:0')"
            ]
          },
          "metadata": {
            "tags": []
          },
          "execution_count": 49
        }
      ]
    },
    {
      "cell_type": "markdown",
      "metadata": {
        "id": "184We0wKWwwT"
      },
      "source": [
        "# calculating accuracy"
      ]
    },
    {
      "cell_type": "code",
      "metadata": {
        "id": "TTZHo1ZKTWw2"
      },
      "source": [
        "def accuracy(target, predicted):\n",
        "  x = torch.all(torch.eq(target, predicted), dim  = 1)\n",
        "  x = x.type(torch.FloatTensor)\n",
        "  return 100 * (torch.sum(x)/target.shape[0])"
      ],
      "execution_count": null,
      "outputs": []
    },
    {
      "cell_type": "markdown",
      "metadata": {
        "id": "oBRfQwjeY6XE"
      },
      "source": [
        "\n",
        "\n",
        "# train the model"
      ]
    },
    {
      "cell_type": "code",
      "metadata": {
        "id": "SgfmrYj8dYpe"
      },
      "source": [
        "ntoken = len(vocabs)\n",
        "ntoken_trg = len(target_vocabs)\n",
        "d_model = 256\n",
        "nhead = 8\n",
        "nlayers_enc = 3\n",
        "nlayers_dec = 2\n",
        "nfeed = 1024\n",
        "pad_token = 1\n",
        "# instantiations\n",
        "model = TransformerModel(ntoken, ntoken_trg, d_model, nlayers_enc, nlayers_dec, nhead, nfeed).to(device)"
      ],
      "execution_count": null,
      "outputs": []
    },
    {
      "cell_type": "code",
      "metadata": {
        "id": "gvouk4GTfPMk"
      },
      "source": [
        "from torch.optim import Adam\n",
        "#criterion = nn.CrossEntropyLoss(ignore_index=0)\n",
        "criterion = nn.CrossEntropyLoss()\n",
        "optimizer = Adam(model.parameters(), lr=1e-4)"
      ],
      "execution_count": null,
      "outputs": []
    },
    {
      "cell_type": "code",
      "metadata": {
        "colab": {
          "base_uri": "https://localhost:8080/",
          "height": 1000,
          "referenced_widgets": [
            "9f6aedf8c45e4cdd8041e8b52a840e16",
            "b62cc24b4e814d37959c6307855cbb74",
            "86fb03a68a664a59bc38fe55b2820a65",
            "9859cf8d93c6420eb27a833172a05a45",
            "d90943fee22745a8b9415f1273b0e9ea",
            "a3b56f7a77cc42689522a59864f067ba",
            "eea7bf3dc594409c84596ddfffe08a6f",
            "5835468fee2f4be5a97e28b92fb6b1fb",
            "c0d4d8d955384bd6bf4ddf204509e278",
            "eeeeebb632a246a2b6afefe3746bad3e",
            "5290a1e64ab842e79bfedc9c012f3bd4",
            "2d35a3c3e1f349cb93513f614788de4f",
            "94f11cc4d538469297f990f1594a53a7",
            "3646a9c7a5674b0aa54bbc150fc89f49",
            "cad9886528a84da7b86b3637ce2289e6",
            "3a64c7edb1104ac193d98be839ddd4ca"
          ]
        },
        "id": "ifgKuIQ6YAY2",
        "outputId": "b51c7d97-2863-4197-c90a-630f1efa6354"
      },
      "source": [
        "from tqdm.notebook import tqdm\n",
        "\n",
        "update_every = 5\n",
        "batch_size = 128\n",
        "num_epochs = 4\n",
        "train_steps = len(train_iterator)\n",
        "val_steps = len(val_iterator)\n",
        "train_iter = iter(train_iterator)\n",
        "\n",
        "best_acc = 0\n",
        "\n",
        "train_loss = []\n",
        "val_losses = []\n",
        "\n",
        "train_acc = []\n",
        "val_acc = []\n",
        "\n",
        "total_step = 0\n",
        "for epoch in range(num_epochs):\n",
        "  print('\\nEpoch: ', epoch)\n",
        "  running_loss = []\n",
        "  running_acc = []\n",
        "  pbar = tqdm(range(train_steps))\n",
        "  stps = 0\n",
        "  acc = 0\n",
        "  for step in pbar:\n",
        "    model.train()\n",
        "    total_step += 1\n",
        "    batch = next(train_iter)\n",
        "    src, tgt = batch.src, batch.trg\n",
        "    src, tgt = src.to(device), tgt.to(device)\n",
        "\n",
        "    src = src.transpose(1, 0)  # change - transpose to swap dimensions\n",
        "    tgt = tgt.transpose(1, 0)\n",
        "    tgt_inp, tgt_out = tgt[:-1, :], tgt[ 1:, :].transpose(1, 0)\n",
        "    src_pad_mask, tgt_pad_mask, mem_pad_mask = model.gen_pad_masks(src,\n",
        "                                                                    tgt_inp, pad_token,\n",
        "                                                                    src.shape[0],\n",
        "                                                                    tgt_inp.shape[0], batch_size = src.shape[1])\n",
        "\n",
        "    src_pad_mask = src_pad_mask.to(device)\n",
        "    tgt_pad_mask = tgt_pad_mask.to(device)\n",
        "    mem_pad_mask = mem_pad_mask.to(device)\n",
        "    tgt_mask = model.generate_square_subsequent_mask(tgt_inp.shape[0]).to(device)\n",
        "\n",
        "    # Forward\n",
        "    #model.reset_history()\n",
        "\n",
        "    output = model( src, tgt_inp, tgt_mask, src_pad_mask, tgt_pad_mask, mem_pad_mask)\n",
        "    # output_ = output.view(-1, ntoken_trg)\n",
        "    # tgt_ = tgt_out.view(-1)\n",
        "    loss = criterion(output, tgt_out)\n",
        "    loss.backward()  # calculate gradients\n",
        "\n",
        "    acc = accuracy(tgt_out, output.argmax(1))\n",
        "    running_acc.append(acc)\n",
        "    running_loss.append(loss.detach().cpu().numpy())\n",
        "    # Backprop and update\n",
        "    if total_step%update_every == 0:\n",
        "      stps = stps + 1\n",
        "      torch.nn.utils.clip_grad_norm_(model.parameters(), 0.1)\n",
        "      optimizer.step()\n",
        "      optimizer.zero_grad() # check - zero gradients after updating weights\n",
        "\n",
        "\n",
        "    if total_step%400 == 0:  #print every 400 steps\n",
        "      train_loss.append(np.mean(running_loss))\n",
        "      train_acc.append(np.mean(running_acc))\n",
        "      print(f'Step = {total_step}')\n",
        "      s = \"train_loss=%2.4f ,train_accuracy=%2.4f\"%(np.mean(running_loss), np.mean(running_acc))\n",
        "      running_loss = []\n",
        "      running_acc = []\n",
        "      pbar.set_description(s)\n",
        "      print(s)\n",
        "\n",
        "\n",
        "      # Validate every epoch\n",
        "      val_iter = iter(val_iterator)\n",
        "      stps = 0\n",
        "      acc = 0\n",
        "      pbar_val = range(val_steps)\n",
        "      with torch.no_grad():\n",
        "        running_val_loss = []\n",
        "        running_val_acc = []\n",
        "        for step in pbar_val:\n",
        "          stps += 1\n",
        "          batch = next(val_iter)\n",
        "          src, tgt = batch.src, batch.trg\n",
        "          src, tgt = src.to(device), tgt.to(device)\n",
        "\n",
        "          src = src.transpose(1, 0)  # change - transpose to swap dimensions\n",
        "          tgt = tgt.transpose(1, 0)\n",
        "          tgt_inp, tgt_out = tgt[:-1, :], tgt[ 1:, :].transpose(1, 0)\n",
        "\n",
        "          # Forward\n",
        "          output, loss_out = greedy_search(model, src, batch_size = src.shape[1], sos_token = 2, pad_token = 1, c1 = tgt.shape[0], c2 = src.shape[0])\n",
        "          loss = criterion(loss_out, tgt_out)\n",
        "          running_val_loss.append(loss.cpu().numpy())\n",
        "          acc = accuracy(tgt_out, output)\n",
        "          running_val_acc.append(acc)\n",
        "\n",
        "        val_acc.append(np.mean(running_val_acc))\n",
        "        val_losses.append(np.mean(running_val_loss))\n",
        "        s = \"val_loss=%2.4f ,val_accuracy=%2.4f\"%(val_losses[-1], val_acc[-1])\n",
        "\n",
        "        print(s)\n",
        "        if val_acc[-1] > best_acc:\n",
        "          best_acc = val_acc[-1]\n",
        "          torch.save(model, '/content/drive/MyDrive/deep_lab/models/transformer_model.pth')"
      ],
      "execution_count": null,
      "outputs": [
        {
          "output_type": "stream",
          "text": [
            "\n",
            "Epoch:  0\n"
          ],
          "name": "stdout"
        },
        {
          "output_type": "display_data",
          "data": {
            "application/vnd.jupyter.widget-view+json": {
              "model_id": "9f6aedf8c45e4cdd8041e8b52a840e16",
              "version_minor": 0,
              "version_major": 2
            },
            "text/plain": [
              "HBox(children=(FloatProgress(value=0.0, max=31250.0), HTML(value='')))"
            ]
          },
          "metadata": {
            "tags": []
          }
        },
        {
          "output_type": "stream",
          "text": [
            "Step = 400\n",
            "train_loss=1.1662 ,train_accuracy=20.7148\n",
            "val_loss=0.8985 ,val_accuracy=32.3248\n",
            "Step = 800\n",
            "train_loss=0.7677 ,train_accuracy=37.8164\n",
            "val_loss=0.8209 ,val_accuracy=33.0016\n",
            "Step = 1200\n",
            "train_loss=0.7236 ,train_accuracy=38.6992\n",
            "val_loss=0.8012 ,val_accuracy=32.0462\n",
            "Step = 1600\n",
            "train_loss=0.7070 ,train_accuracy=37.8555\n",
            "val_loss=0.7869 ,val_accuracy=31.7576\n",
            "Step = 2000\n",
            "train_loss=0.6879 ,train_accuracy=39.0195\n",
            "val_loss=0.7791 ,val_accuracy=32.6931\n",
            "Step = 2400\n",
            "train_loss=0.6717 ,train_accuracy=39.3125\n",
            "val_loss=0.7520 ,val_accuracy=33.2603\n",
            "Step = 2800\n",
            "train_loss=0.6318 ,train_accuracy=41.8516\n",
            "val_loss=0.6563 ,val_accuracy=41.1127\n",
            "Step = 3200\n",
            "train_loss=0.5525 ,train_accuracy=48.4883\n",
            "val_loss=0.6013 ,val_accuracy=44.4765\n",
            "Step = 3600\n",
            "train_loss=0.4050 ,train_accuracy=62.5234\n",
            "val_loss=0.4465 ,val_accuracy=59.1660\n",
            "Step = 4000\n",
            "train_loss=0.2673 ,train_accuracy=77.2031\n",
            "val_loss=0.2454 ,val_accuracy=79.0406\n",
            "Step = 4400\n",
            "train_loss=0.1336 ,train_accuracy=89.7461\n",
            "val_loss=0.1245 ,val_accuracy=90.7942\n",
            "Step = 4800\n",
            "train_loss=0.0887 ,train_accuracy=93.5938\n",
            "val_loss=0.1176 ,val_accuracy=91.1127\n",
            "Step = 5200\n",
            "train_loss=0.0945 ,train_accuracy=93.2266\n",
            "val_loss=0.1629 ,val_accuracy=88.4156\n",
            "Step = 5600\n",
            "train_loss=0.0671 ,train_accuracy=95.2031\n",
            "val_loss=0.0438 ,val_accuracy=97.0939\n",
            "Step = 6000\n",
            "train_loss=0.0502 ,train_accuracy=96.8164\n",
            "val_loss=0.0330 ,val_accuracy=97.7707\n",
            "Step = 6400\n",
            "train_loss=0.0354 ,train_accuracy=97.7578\n",
            "val_loss=0.0330 ,val_accuracy=98.1489\n",
            "Step = 6800\n",
            "train_loss=0.0343 ,train_accuracy=97.8320\n",
            "val_loss=0.0559 ,val_accuracy=96.7357\n",
            "Step = 7200\n",
            "train_loss=0.0371 ,train_accuracy=97.7695\n",
            "val_loss=0.0374 ,val_accuracy=97.7209\n",
            "Step = 7600\n",
            "train_loss=0.0269 ,train_accuracy=98.2891\n",
            "val_loss=0.0300 ,val_accuracy=98.2484\n",
            "Step = 8000\n",
            "train_loss=0.0359 ,train_accuracy=97.8711\n",
            "val_loss=0.0320 ,val_accuracy=97.9896\n",
            "Step = 8400\n",
            "train_loss=0.0246 ,train_accuracy=98.5938\n",
            "val_loss=0.0120 ,val_accuracy=99.3232\n",
            "Step = 8800\n",
            "train_loss=0.0189 ,train_accuracy=98.8750\n",
            "val_loss=0.0238 ,val_accuracy=98.6465\n",
            "Step = 9200\n",
            "train_loss=0.0182 ,train_accuracy=99.0273\n",
            "val_loss=0.0325 ,val_accuracy=98.2385\n",
            "Step = 9600\n",
            "train_loss=0.0149 ,train_accuracy=99.1016\n",
            "val_loss=0.0157 ,val_accuracy=99.1640\n",
            "Step = 10000\n",
            "train_loss=0.0198 ,train_accuracy=99.0391\n",
            "val_loss=0.0176 ,val_accuracy=98.9550\n",
            "Step = 10400\n",
            "train_loss=0.0229 ,train_accuracy=98.8242\n",
            "val_loss=0.0090 ,val_accuracy=99.4725\n",
            "Step = 10800\n",
            "train_loss=0.0223 ,train_accuracy=98.8594\n",
            "val_loss=0.0152 ,val_accuracy=99.1242\n",
            "Step = 11200\n",
            "train_loss=0.0193 ,train_accuracy=99.0391\n",
            "val_loss=0.0134 ,val_accuracy=99.2237\n",
            "Step = 11600\n",
            "train_loss=0.0184 ,train_accuracy=99.0898\n",
            "val_loss=0.0113 ,val_accuracy=99.3133\n",
            "Step = 12000\n",
            "train_loss=0.0195 ,train_accuracy=99.0664\n",
            "val_loss=0.0358 ,val_accuracy=98.4276\n",
            "Step = 12400\n",
            "train_loss=0.0141 ,train_accuracy=99.2734\n",
            "val_loss=0.0182 ,val_accuracy=99.0744\n",
            "Step = 12800\n",
            "train_loss=0.0140 ,train_accuracy=99.3711\n",
            "val_loss=0.0100 ,val_accuracy=99.4327\n",
            "Step = 13200\n",
            "train_loss=0.0161 ,train_accuracy=99.3125\n",
            "val_loss=0.0776 ,val_accuracy=96.8651\n",
            "Step = 13600\n",
            "train_loss=0.0215 ,train_accuracy=99.0781\n",
            "val_loss=0.0081 ,val_accuracy=99.6716\n",
            "Step = 14000\n",
            "train_loss=0.0149 ,train_accuracy=99.3867\n",
            "val_loss=0.0055 ,val_accuracy=99.7611\n",
            "Step = 14400\n",
            "train_loss=0.0143 ,train_accuracy=99.4414\n",
            "val_loss=0.0456 ,val_accuracy=98.1489\n",
            "Step = 14800\n",
            "train_loss=0.0183 ,train_accuracy=99.2734\n",
            "val_loss=0.0333 ,val_accuracy=98.7261\n",
            "Step = 15200\n",
            "train_loss=0.0134 ,train_accuracy=99.4922\n",
            "val_loss=0.0198 ,val_accuracy=99.1839\n",
            "Step = 15600\n",
            "train_loss=0.0163 ,train_accuracy=99.3359\n",
            "val_loss=0.0994 ,val_accuracy=96.6660\n",
            "Step = 16000\n",
            "train_loss=0.0326 ,train_accuracy=98.9062\n",
            "val_loss=0.0114 ,val_accuracy=99.5920\n",
            "Step = 16400\n",
            "train_loss=0.0307 ,train_accuracy=98.8945\n",
            "val_loss=0.0438 ,val_accuracy=98.3778\n",
            "Step = 16800\n",
            "train_loss=0.0178 ,train_accuracy=99.3477\n",
            "val_loss=0.0133 ,val_accuracy=99.5820\n",
            "Step = 17200\n",
            "train_loss=0.0380 ,train_accuracy=98.8047\n",
            "val_loss=0.0286 ,val_accuracy=99.1143\n",
            "Step = 17600\n",
            "train_loss=0.0117 ,train_accuracy=99.6016\n",
            "val_loss=0.0308 ,val_accuracy=98.9749\n",
            "Step = 18000\n",
            "train_loss=0.0126 ,train_accuracy=99.5898\n",
            "val_loss=0.0079 ,val_accuracy=99.7313\n",
            "Step = 18400\n",
            "train_loss=0.0255 ,train_accuracy=99.2422\n",
            "val_loss=0.0035 ,val_accuracy=99.8209\n",
            "Step = 18800\n",
            "train_loss=0.0145 ,train_accuracy=99.5234\n",
            "val_loss=0.0031 ,val_accuracy=99.8706\n",
            "Step = 19200\n",
            "train_loss=0.0095 ,train_accuracy=99.7109\n",
            "val_loss=0.0014 ,val_accuracy=99.9502\n",
            "Step = 19600\n",
            "train_loss=0.0193 ,train_accuracy=99.3633\n",
            "val_loss=0.0223 ,val_accuracy=99.3133\n",
            "Step = 20000\n",
            "train_loss=0.0136 ,train_accuracy=99.5703\n",
            "val_loss=0.0035 ,val_accuracy=99.9104\n",
            "Step = 20400\n",
            "train_loss=0.0096 ,train_accuracy=99.6758\n",
            "val_loss=0.0043 ,val_accuracy=99.8408\n",
            "Step = 20800\n",
            "train_loss=0.0108 ,train_accuracy=99.6680\n",
            "val_loss=0.0318 ,val_accuracy=99.0247\n",
            "Step = 21200\n",
            "train_loss=0.0313 ,train_accuracy=99.1289\n",
            "val_loss=0.0134 ,val_accuracy=99.4825\n",
            "Step = 21600\n",
            "train_loss=0.0233 ,train_accuracy=99.2852\n",
            "val_loss=0.0028 ,val_accuracy=99.9204\n",
            "Step = 22000\n",
            "train_loss=0.0185 ,train_accuracy=99.4766\n",
            "val_loss=0.0093 ,val_accuracy=99.7711\n",
            "Step = 22400\n",
            "train_loss=0.0113 ,train_accuracy=99.6523\n",
            "val_loss=0.0359 ,val_accuracy=98.9749\n",
            "Step = 22800\n",
            "train_loss=0.0198 ,train_accuracy=99.5078\n",
            "val_loss=0.0012 ,val_accuracy=99.9701\n",
            "Step = 23200\n",
            "train_loss=0.0254 ,train_accuracy=99.3281\n",
            "val_loss=0.1593 ,val_accuracy=96.1286\n",
            "Step = 23600\n",
            "train_loss=0.0085 ,train_accuracy=99.7852\n",
            "val_loss=0.0037 ,val_accuracy=99.8706\n",
            "Step = 24000\n",
            "train_loss=0.0082 ,train_accuracy=99.7773\n",
            "val_loss=0.0440 ,val_accuracy=98.9152\n",
            "Step = 24400\n",
            "train_loss=0.0185 ,train_accuracy=99.5234\n",
            "val_loss=0.0126 ,val_accuracy=99.6915\n",
            "Step = 24800\n",
            "train_loss=0.0102 ,train_accuracy=99.6797\n",
            "val_loss=0.0204 ,val_accuracy=99.4029\n",
            "Step = 25200\n",
            "train_loss=0.0294 ,train_accuracy=99.3164\n",
            "val_loss=0.0018 ,val_accuracy=99.9403\n",
            "Step = 25600\n",
            "train_loss=0.0136 ,train_accuracy=99.6680\n",
            "val_loss=0.0035 ,val_accuracy=99.8905\n",
            "Step = 26000\n",
            "train_loss=0.0100 ,train_accuracy=99.7344\n",
            "val_loss=0.0167 ,val_accuracy=99.5123\n",
            "Step = 26400\n",
            "train_loss=0.0133 ,train_accuracy=99.6641\n",
            "val_loss=0.0106 ,val_accuracy=99.7114\n",
            "Step = 26800\n",
            "train_loss=0.0184 ,train_accuracy=99.5352\n",
            "val_loss=0.0140 ,val_accuracy=99.6119\n",
            "Step = 27200\n",
            "train_loss=0.0078 ,train_accuracy=99.8008\n",
            "val_loss=0.0168 ,val_accuracy=99.5721\n",
            "Step = 27600\n",
            "train_loss=0.0100 ,train_accuracy=99.7500\n",
            "val_loss=0.0006 ,val_accuracy=99.9801\n",
            "Step = 28000\n",
            "train_loss=0.0099 ,train_accuracy=99.7305\n",
            "val_loss=0.0106 ,val_accuracy=99.7213\n",
            "Step = 28400\n",
            "train_loss=0.0149 ,train_accuracy=99.4375\n",
            "val_loss=0.0177 ,val_accuracy=99.6218\n",
            "Step = 28800\n",
            "train_loss=0.0059 ,train_accuracy=99.8398\n",
            "val_loss=0.0016 ,val_accuracy=99.9701\n",
            "Step = 29200\n",
            "train_loss=0.0131 ,train_accuracy=99.7188\n",
            "val_loss=0.0217 ,val_accuracy=99.5322\n",
            "Step = 29600\n",
            "train_loss=0.0255 ,train_accuracy=99.4492\n",
            "val_loss=0.0155 ,val_accuracy=99.5521\n",
            "Step = 30000\n",
            "train_loss=0.0084 ,train_accuracy=99.8086\n",
            "val_loss=0.0030 ,val_accuracy=99.9204\n",
            "Step = 30400\n",
            "train_loss=0.0091 ,train_accuracy=99.7773\n",
            "val_loss=0.0049 ,val_accuracy=99.8507\n",
            "Step = 30800\n",
            "train_loss=0.0121 ,train_accuracy=99.7031\n",
            "val_loss=0.0019 ,val_accuracy=99.9502\n",
            "Step = 31200\n",
            "train_loss=0.0117 ,train_accuracy=99.7109\n",
            "val_loss=0.0188 ,val_accuracy=99.4825\n",
            "\n",
            "\n",
            "Epoch:  1\n"
          ],
          "name": "stdout"
        },
        {
          "output_type": "display_data",
          "data": {
            "application/vnd.jupyter.widget-view+json": {
              "model_id": "c0d4d8d955384bd6bf4ddf204509e278",
              "version_minor": 0,
              "version_major": 2
            },
            "text/plain": [
              "HBox(children=(FloatProgress(value=0.0, max=31250.0), HTML(value='')))"
            ]
          },
          "metadata": {
            "tags": []
          }
        },
        {
          "output_type": "error",
          "ename": "StopIteration",
          "evalue": "ignored",
          "traceback": [
            "\u001b[0;31m---------------------------------------------------------------------------\u001b[0m",
            "\u001b[0;31mStopIteration\u001b[0m                             Traceback (most recent call last)",
            "\u001b[0;32m<ipython-input-38-e3fd4632a5dc>\u001b[0m in \u001b[0;36m<module>\u001b[0;34m()\u001b[0m\n\u001b[1;32m     27\u001b[0m     \u001b[0mmodel\u001b[0m\u001b[0;34m.\u001b[0m\u001b[0mtrain\u001b[0m\u001b[0;34m(\u001b[0m\u001b[0;34m)\u001b[0m\u001b[0;34m\u001b[0m\u001b[0;34m\u001b[0m\u001b[0m\n\u001b[1;32m     28\u001b[0m     \u001b[0mtotal_step\u001b[0m \u001b[0;34m+=\u001b[0m \u001b[0;36m1\u001b[0m\u001b[0;34m\u001b[0m\u001b[0;34m\u001b[0m\u001b[0m\n\u001b[0;32m---> 29\u001b[0;31m     \u001b[0mbatch\u001b[0m \u001b[0;34m=\u001b[0m \u001b[0mnext\u001b[0m\u001b[0;34m(\u001b[0m\u001b[0mtrain_iter\u001b[0m\u001b[0;34m)\u001b[0m\u001b[0;34m\u001b[0m\u001b[0;34m\u001b[0m\u001b[0m\n\u001b[0m\u001b[1;32m     30\u001b[0m     \u001b[0msrc\u001b[0m\u001b[0;34m,\u001b[0m \u001b[0mtgt\u001b[0m \u001b[0;34m=\u001b[0m \u001b[0mbatch\u001b[0m\u001b[0;34m.\u001b[0m\u001b[0msrc\u001b[0m\u001b[0;34m,\u001b[0m \u001b[0mbatch\u001b[0m\u001b[0;34m.\u001b[0m\u001b[0mtrg\u001b[0m\u001b[0;34m\u001b[0m\u001b[0;34m\u001b[0m\u001b[0m\n\u001b[1;32m     31\u001b[0m     \u001b[0msrc\u001b[0m\u001b[0;34m,\u001b[0m \u001b[0mtgt\u001b[0m \u001b[0;34m=\u001b[0m \u001b[0msrc\u001b[0m\u001b[0;34m.\u001b[0m\u001b[0mto\u001b[0m\u001b[0;34m(\u001b[0m\u001b[0mdevice\u001b[0m\u001b[0;34m)\u001b[0m\u001b[0;34m,\u001b[0m \u001b[0mtgt\u001b[0m\u001b[0;34m.\u001b[0m\u001b[0mto\u001b[0m\u001b[0;34m(\u001b[0m\u001b[0mdevice\u001b[0m\u001b[0;34m)\u001b[0m\u001b[0;34m\u001b[0m\u001b[0;34m\u001b[0m\u001b[0m\n",
            "\u001b[0;31mStopIteration\u001b[0m: "
          ]
        }
      ]
    },
    {
      "cell_type": "markdown",
      "metadata": {
        "id": "EypIIgIwwzu7"
      },
      "source": [
        "# 1.7"
      ]
    },
    {
      "cell_type": "markdown",
      "metadata": {
        "id": "ikBhM9IAygya"
      },
      "source": [
        "## plot the result"
      ]
    },
    {
      "cell_type": "code",
      "metadata": {
        "id": "CKyMcBI8tPua",
        "colab": {
          "base_uri": "https://localhost:8080/",
          "height": 545
        },
        "outputId": "c970e694-a17f-46cf-fd36-3ffc77c43407"
      },
      "source": [
        "# plot loss\n",
        "from matplotlib import pyplot as plt\n",
        "plt.plot( train_loss,'',  val_losses,'-')\n",
        "plt.title('Loss')\n",
        "plt.legend(['train','val'])\n",
        "plt.grid()\n",
        "plt.show()\n",
        "# plot accuracy\n",
        "plt.plot(train_acc,'', val_acc,'-')\n",
        "plt.title('Accuracy')\n",
        "plt.legend(['train','val'])\n",
        "plt.grid()\n",
        "plt.show()"
      ],
      "execution_count": null,
      "outputs": [
        {
          "output_type": "display_data",
          "data": {
            "image/png": "[encoded data removed]",
            "text/plain": [
              "<Figure size 432x288 with 1 Axes>"
            ]
          },
          "metadata": {
            "tags": [],
            "needs_background": "light"
          }
        },
        {
          "output_type": "display_data",
          "data": {
            "image/png": "[encoded data removed]",
            "text/plain": [
              "<Figure size 432x288 with 1 Axes>"
            ]
          },
          "metadata": {
            "tags": [],
            "needs_background": "light"
          }
        }
      ]
    },
    {
      "cell_type": "markdown",
      "metadata": {
        "id": "UDzeJPLyzOyH"
      },
      "source": [
        "## reducing the size of the model"
      ]
    },
    {
      "cell_type": "code",
      "metadata": {
        "id": "OsYgO96RzbTE"
      },
      "source": [
        "ntoken = len(vocabs)\n",
        "ntoken_trg = len(target_vocabs)\n",
        "d_model = 256\n",
        "nhead = 8\n",
        "nlayers_enc = 2\n",
        "nlayers_dec = 2\n",
        "nfeed = 512\n",
        "pad_token = 1\n",
        "# instantiations\n",
        "model = TransformerModel(ntoken, ntoken_trg, d_model, nlayers, nlayers, nhead, nfeed).to(device)"
      ],
      "execution_count": null,
      "outputs": []
    },
    {
      "cell_type": "code",
      "metadata": {
        "id": "7yjuS07WzmZv"
      },
      "source": [
        "from torch.optim import Adam\n",
        "#criterion = nn.CrossEntropyLoss(ignore_index=0)\n",
        "criterion = nn.CrossEntropyLoss()\n",
        "optimizer = Adam(model.parameters(), lr=1e-4)"
      ],
      "execution_count": null,
      "outputs": []
    },
    {
      "cell_type": "code",
      "metadata": {
        "id": "OE-VfFM9zqkP",
        "colab": {
          "base_uri": "https://localhost:8080/",
          "height": 1000,
          "referenced_widgets": [
            "379f7c79a3ca4951a73a36c7610a06dd",
            "7e90cac7ad27425d94fb2c74e1a0734c",
            "2636c46427f84b16ac0a3ca5925545dd",
            "7512596b4e6342c19078b9fa5921781f",
            "2ca2030e611f44e9aee5702534c1b2a6",
            "2d429bf8fe1044b091b416a515b15981",
            "2e88f364b09541cbbc9fcd5279bdf86a",
            "276e69815e014444a1ac745aaef86219"
          ]
        },
        "outputId": "ab36ddfa-522c-4734-ea5e-049a87e36b1b"
      },
      "source": [
        "from tqdm.notebook import tqdm\n",
        "\n",
        "update_every = 5\n",
        "batch_size = 128\n",
        "num_epochs = 1\n",
        "train_steps = len(train_iterator)\n",
        "val_steps = len(val_iterator)\n",
        "train_iter = iter(train_iterator)\n",
        "\n",
        "best_acc = 0\n",
        "\n",
        "train_loss = []\n",
        "val_losses = []\n",
        "\n",
        "train_acc = []\n",
        "val_acc = []\n",
        "\n",
        "total_step = 0\n",
        "for epoch in range(num_epochs):\n",
        "  print('\\nEpoch: ', epoch)\n",
        "  running_loss = []\n",
        "  running_acc = []\n",
        "  pbar = tqdm(range(train_steps))\n",
        "  stps = 0\n",
        "  acc = 0\n",
        "  for step in pbar:\n",
        "    model.train()\n",
        "    total_step += 1\n",
        "    batch = next(train_iter)\n",
        "    src, tgt = batch.src, batch.trg\n",
        "    src, tgt = src.to(device), tgt.to(device)\n",
        "\n",
        "    src = src.transpose(1, 0)  # change - transpose to swap dimensions\n",
        "    tgt = tgt.transpose(1, 0)\n",
        "    tgt_inp, tgt_out = tgt[:-1, :], tgt[ 1:, :].transpose(1, 0)\n",
        "    src_pad_mask, tgt_pad_mask, mem_pad_mask = model.gen_pad_masks(src,\n",
        "                                                                    tgt_inp, pad_token,\n",
        "                                                                    src.shape[0],\n",
        "                                                                    tgt_inp.shape[0], batch_size = src.shape[1])\n",
        "\n",
        "    src_pad_mask = src_pad_mask.to(device)\n",
        "    tgt_pad_mask = tgt_pad_mask.to(device)\n",
        "    mem_pad_mask = mem_pad_mask.to(device)\n",
        "    tgt_mask = model.generate_square_subsequent_mask(tgt_inp.shape[0]).to(device)\n",
        "\n",
        "    # Forward\n",
        "    #model.reset_history()\n",
        "\n",
        "    output = model( src, tgt_inp, tgt_mask, src_pad_mask, tgt_pad_mask, mem_pad_mask)\n",
        "    # output_ = output.view(-1, ntoken_trg)\n",
        "    # tgt_ = tgt_out.view(-1)\n",
        "    loss = criterion(output, tgt_out)\n",
        "    loss.backward()  # calculate gradients\n",
        "\n",
        "    acc = accuracy(tgt_out, output.argmax(1))\n",
        "    running_acc.append(acc)\n",
        "    running_loss.append(loss.detach().cpu().numpy())\n",
        "    # Backprop and update\n",
        "    if total_step%update_every == 0:\n",
        "      stps = stps + 1\n",
        "      torch.nn.utils.clip_grad_norm_(model.parameters(), 0.1)\n",
        "      optimizer.step()\n",
        "      optimizer.zero_grad() # check - zero gradients after updating weights\n",
        "\n",
        "\n",
        "    if total_step%400 == 0:  #print every 400 steps\n",
        "      train_loss.append(np.mean(running_loss))\n",
        "      train_acc.append(np.mean(running_acc))\n",
        "      print(f'Step = {total_step}')\n",
        "      s = \"train_loss=%2.4f ,train_accuracy=%2.4f\"%(np.mean(running_loss), np.mean(running_acc))\n",
        "      running_loss = []\n",
        "      running_acc = []\n",
        "      pbar.set_description(s)\n",
        "      print(s)\n",
        "\n",
        "\n",
        "      # Validate every epoch\n",
        "      val_iter = iter(val_iterator)\n",
        "      stps = 0\n",
        "      acc = 0\n",
        "      pbar_val = range(val_steps)\n",
        "      with torch.no_grad():\n",
        "        running_val_loss = []\n",
        "        running_val_acc = []\n",
        "        for step in pbar_val:\n",
        "          stps += 1\n",
        "          batch = next(val_iter)\n",
        "          src, tgt = batch.src, batch.trg\n",
        "          src, tgt = src.to(device), tgt.to(device)\n",
        "\n",
        "          src = src.transpose(1, 0)  # change - transpose to swap dimensions\n",
        "          tgt = tgt.transpose(1, 0)\n",
        "          tgt_inp, tgt_out = tgt[:-1, :], tgt[ 1:, :].transpose(1, 0)\n",
        "\n",
        "          # Forward\n",
        "          output, loss_out = greedy_search(model, src, batch_size = src.shape[1], sos_token = 2, pad_token = 1, c1 = tgt.shape[0], c2 = src.shape[0])\n",
        "          loss = criterion(loss_out, tgt_out)\n",
        "          running_val_loss.append(loss.cpu().numpy())\n",
        "          acc = accuracy(tgt_out, output)\n",
        "          running_val_acc.append(acc)\n",
        "\n",
        "        val_acc.append(np.mean(running_val_acc))\n",
        "        val_losses.append(np.mean(running_val_loss))\n",
        "        s = \"val_loss=%2.4f ,val_accuracy=%2.4f\"%(val_losses[-1], val_acc[-1])\n",
        "\n",
        "        print(s)\n",
        "        if val_acc[-1] > best_acc:\n",
        "          best_acc = val_acc[-1]\n",
        "          torch.save(model, '/content/drive/MyDrive/deep_lab/models/transformer_model_lighter.pth')"
      ],
      "execution_count": null,
      "outputs": [
        {
          "output_type": "stream",
          "text": [
            "\n",
            "Epoch:  0\n"
          ],
          "name": "stdout"
        },
        {
          "output_type": "display_data",
          "data": {
            "application/vnd.jupyter.widget-view+json": {
              "model_id": "379f7c79a3ca4951a73a36c7610a06dd",
              "version_minor": 0,
              "version_major": 2
            },
            "text/plain": [
              "HBox(children=(FloatProgress(value=0.0, max=31250.0), HTML(value='')))"
            ]
          },
          "metadata": {
            "tags": []
          }
        },
        {
          "output_type": "stream",
          "text": [
            "Step = 400\n",
            "train_loss=0.9448 ,train_accuracy=28.8320\n",
            "val_loss=0.8705 ,val_accuracy=32.0860\n",
            "Step = 800\n",
            "train_loss=0.7469 ,train_accuracy=38.3398\n",
            "val_loss=0.8201 ,val_accuracy=33.0115\n",
            "Step = 1200\n",
            "train_loss=0.7150 ,train_accuracy=38.8125\n",
            "val_loss=0.7986 ,val_accuracy=32.2651\n",
            "Step = 1600\n",
            "train_loss=0.6993 ,train_accuracy=39.3242\n",
            "val_loss=0.7856 ,val_accuracy=32.9618\n",
            "Step = 2000\n",
            "train_loss=0.6889 ,train_accuracy=38.9336\n",
            "val_loss=0.7825 ,val_accuracy=31.5784\n",
            "Step = 2400\n",
            "train_loss=0.6803 ,train_accuracy=38.5039\n",
            "val_loss=0.7651 ,val_accuracy=32.7030\n",
            "Step = 2800\n",
            "train_loss=0.6711 ,train_accuracy=39.3867\n",
            "val_loss=0.7627 ,val_accuracy=33.2006\n",
            "Step = 3200\n",
            "train_loss=0.6570 ,train_accuracy=39.4688\n",
            "val_loss=0.7455 ,val_accuracy=33.4594\n",
            "Step = 3600\n",
            "train_loss=0.6465 ,train_accuracy=40.2422\n",
            "val_loss=0.7300 ,val_accuracy=34.3850\n",
            "Step = 4000\n",
            "train_loss=0.6258 ,train_accuracy=41.3945\n",
            "val_loss=0.7037 ,val_accuracy=36.2361\n",
            "Step = 4400\n",
            "train_loss=0.6015 ,train_accuracy=43.8438\n",
            "val_loss=0.6737 ,val_accuracy=38.2862\n",
            "Step = 4800\n",
            "train_loss=0.5575 ,train_accuracy=48.6719\n",
            "val_loss=0.6356 ,val_accuracy=41.5705\n",
            "Step = 5200\n",
            "train_loss=0.5137 ,train_accuracy=53.6328\n",
            "val_loss=0.5590 ,val_accuracy=49.3232\n",
            "Step = 5600\n",
            "train_loss=0.4740 ,train_accuracy=57.6250\n",
            "val_loss=0.5031 ,val_accuracy=54.9064\n",
            "Step = 6000\n",
            "train_loss=0.4354 ,train_accuracy=62.3438\n",
            "val_loss=0.4537 ,val_accuracy=61.6839\n",
            "Step = 6400\n",
            "train_loss=0.4145 ,train_accuracy=63.9727\n",
            "val_loss=0.4289 ,val_accuracy=63.4952\n",
            "Step = 6800\n",
            "train_loss=0.3846 ,train_accuracy=67.4570\n",
            "val_loss=0.4084 ,val_accuracy=65.1174\n",
            "Step = 7200\n",
            "train_loss=0.3724 ,train_accuracy=68.6094\n",
            "val_loss=0.3868 ,val_accuracy=67.4960\n",
            "Step = 7600\n",
            "train_loss=0.3459 ,train_accuracy=70.7734\n",
            "val_loss=0.3859 ,val_accuracy=66.5904\n",
            "Step = 8000\n",
            "train_loss=0.3265 ,train_accuracy=72.8555\n",
            "val_loss=0.3602 ,val_accuracy=69.4168\n",
            "Step = 8400\n",
            "train_loss=0.3088 ,train_accuracy=74.7852\n",
            "val_loss=0.3274 ,val_accuracy=71.9944\n",
            "Step = 8800\n",
            "train_loss=0.2887 ,train_accuracy=76.5117\n",
            "val_loss=0.3163 ,val_accuracy=73.8157\n",
            "Step = 9200\n",
            "train_loss=0.2660 ,train_accuracy=79.0195\n",
            "val_loss=0.3090 ,val_accuracy=75.2289\n",
            "Step = 9600\n",
            "train_loss=0.2460 ,train_accuracy=80.6562\n",
            "val_loss=0.2785 ,val_accuracy=76.6023\n",
            "Step = 10000\n",
            "train_loss=0.2318 ,train_accuracy=82.0039\n",
            "val_loss=0.2701 ,val_accuracy=78.0752\n",
            "Step = 10400\n",
            "train_loss=0.2113 ,train_accuracy=83.7109\n",
            "val_loss=0.2517 ,val_accuracy=79.5681\n",
            "Step = 10800\n",
            "train_loss=0.1992 ,train_accuracy=84.7891\n",
            "val_loss=0.2529 ,val_accuracy=78.5828\n",
            "Step = 11200\n",
            "train_loss=0.1808 ,train_accuracy=86.2539\n",
            "val_loss=0.1993 ,val_accuracy=85.0617\n",
            "Step = 11600\n",
            "train_loss=0.1634 ,train_accuracy=87.8945\n",
            "val_loss=0.1730 ,val_accuracy=87.1616\n",
            "Step = 12000\n",
            "train_loss=0.1432 ,train_accuracy=89.5508\n",
            "val_loss=0.1578 ,val_accuracy=88.5450\n",
            "Step = 12400\n",
            "train_loss=0.1257 ,train_accuracy=91.1445\n",
            "val_loss=0.1445 ,val_accuracy=88.6047\n",
            "Step = 12800\n",
            "train_loss=0.1064 ,train_accuracy=92.4648\n",
            "val_loss=0.1166 ,val_accuracy=91.4908\n",
            "Step = 13200\n",
            "train_loss=0.0876 ,train_accuracy=93.9844\n",
            "val_loss=0.0817 ,val_accuracy=94.2476\n",
            "Step = 13600\n",
            "train_loss=0.0715 ,train_accuracy=95.0078\n",
            "val_loss=0.0886 ,val_accuracy=93.6903\n",
            "Step = 14000\n",
            "train_loss=0.0634 ,train_accuracy=95.7422\n",
            "val_loss=0.0479 ,val_accuracy=96.3774\n",
            "Step = 14400\n",
            "train_loss=0.0553 ,train_accuracy=96.2305\n",
            "val_loss=0.0461 ,val_accuracy=96.8949\n",
            "Step = 14800\n",
            "train_loss=0.0521 ,train_accuracy=96.6055\n",
            "val_loss=0.0486 ,val_accuracy=96.4271\n",
            "Step = 15200\n",
            "train_loss=0.0441 ,train_accuracy=97.0703\n",
            "val_loss=0.0412 ,val_accuracy=97.0243\n",
            "Step = 15600\n",
            "train_loss=0.0366 ,train_accuracy=97.5117\n",
            "val_loss=0.0400 ,val_accuracy=97.2830\n",
            "Step = 16000\n",
            "train_loss=0.0378 ,train_accuracy=97.4766\n",
            "val_loss=0.0294 ,val_accuracy=98.0195\n",
            "Step = 16400\n",
            "train_loss=0.0364 ,train_accuracy=97.5195\n",
            "val_loss=0.0247 ,val_accuracy=98.3280\n",
            "Step = 16800\n",
            "train_loss=0.0284 ,train_accuracy=98.1094\n",
            "val_loss=0.0233 ,val_accuracy=98.5072\n",
            "Step = 17200\n",
            "train_loss=0.0284 ,train_accuracy=98.0742\n",
            "val_loss=0.0227 ,val_accuracy=98.5569\n",
            "Step = 17600\n",
            "train_loss=0.0230 ,train_accuracy=98.5625\n",
            "val_loss=0.0309 ,val_accuracy=97.9896\n",
            "Step = 18000\n",
            "train_loss=0.0214 ,train_accuracy=98.6836\n",
            "val_loss=0.0333 ,val_accuracy=97.9100\n",
            "Step = 18400\n",
            "train_loss=0.0185 ,train_accuracy=98.8281\n",
            "val_loss=0.0719 ,val_accuracy=96.0092\n",
            "Step = 18800\n",
            "train_loss=0.0209 ,train_accuracy=98.6875\n",
            "val_loss=0.0185 ,val_accuracy=98.8356\n",
            "Step = 19200\n",
            "train_loss=0.0223 ,train_accuracy=98.6562\n",
            "val_loss=0.0196 ,val_accuracy=98.6365\n",
            "Step = 19600\n",
            "train_loss=0.0161 ,train_accuracy=99.0078\n",
            "val_loss=0.0239 ,val_accuracy=98.3678\n",
            "Step = 20000\n",
            "train_loss=0.0150 ,train_accuracy=99.1055\n",
            "val_loss=0.0639 ,val_accuracy=96.3077\n",
            "Step = 20400\n",
            "train_loss=0.0170 ,train_accuracy=99.0391\n",
            "val_loss=0.0201 ,val_accuracy=98.7858\n",
            "Step = 20800\n",
            "train_loss=0.0179 ,train_accuracy=99.0117\n",
            "val_loss=0.0330 ,val_accuracy=98.2484\n",
            "Step = 21200\n",
            "train_loss=0.0171 ,train_accuracy=98.9766\n",
            "val_loss=0.0104 ,val_accuracy=99.3033\n",
            "Step = 21600\n",
            "train_loss=0.0131 ,train_accuracy=99.2266\n",
            "val_loss=0.0719 ,val_accuracy=96.0689\n",
            "Step = 22000\n",
            "train_loss=0.0152 ,train_accuracy=99.1367\n",
            "val_loss=0.0193 ,val_accuracy=98.7958\n",
            "Step = 22400\n",
            "train_loss=0.0138 ,train_accuracy=99.2109\n",
            "val_loss=0.0171 ,val_accuracy=98.9849\n",
            "Step = 22800\n",
            "train_loss=0.0132 ,train_accuracy=99.1992\n",
            "val_loss=0.0307 ,val_accuracy=97.9697\n",
            "Step = 23200\n",
            "train_loss=0.0109 ,train_accuracy=99.3906\n",
            "val_loss=0.0368 ,val_accuracy=97.9299\n",
            "Step = 23600\n",
            "train_loss=0.0141 ,train_accuracy=99.2500\n",
            "val_loss=0.0127 ,val_accuracy=99.1740\n",
            "Step = 24000\n",
            "train_loss=0.0113 ,train_accuracy=99.3867\n",
            "val_loss=0.0275 ,val_accuracy=98.2783\n",
            "Step = 24400\n",
            "train_loss=0.0127 ,train_accuracy=99.3359\n",
            "val_loss=0.0110 ,val_accuracy=99.3929\n",
            "Step = 24800\n",
            "train_loss=0.0124 ,train_accuracy=99.3672\n",
            "val_loss=0.0163 ,val_accuracy=99.0645\n",
            "Step = 25200\n",
            "train_loss=0.0115 ,train_accuracy=99.3594\n",
            "val_loss=0.0470 ,val_accuracy=97.6612\n",
            "Step = 25600\n",
            "train_loss=0.0095 ,train_accuracy=99.5195\n",
            "val_loss=0.0150 ,val_accuracy=99.1242\n",
            "Step = 26000\n",
            "train_loss=0.0101 ,train_accuracy=99.5234\n",
            "val_loss=0.0213 ,val_accuracy=98.7162\n",
            "Step = 26400\n",
            "train_loss=0.0132 ,train_accuracy=99.3438\n",
            "val_loss=0.0096 ,val_accuracy=99.5223\n",
            "Step = 26800\n",
            "train_loss=0.0207 ,train_accuracy=99.1094\n",
            "val_loss=0.1879 ,val_accuracy=93.9889\n",
            "Step = 27200\n",
            "train_loss=0.0161 ,train_accuracy=99.2852\n",
            "val_loss=0.0254 ,val_accuracy=98.5967\n",
            "Step = 27600\n",
            "train_loss=0.0082 ,train_accuracy=99.5859\n",
            "val_loss=0.0148 ,val_accuracy=99.0943\n",
            "Step = 28000\n",
            "train_loss=0.0103 ,train_accuracy=99.5352\n",
            "val_loss=0.0124 ,val_accuracy=99.4427\n",
            "Step = 28400\n",
            "train_loss=0.0103 ,train_accuracy=99.5508\n",
            "val_loss=0.0170 ,val_accuracy=99.1541\n",
            "Step = 28800\n",
            "train_loss=0.0141 ,train_accuracy=99.4375\n",
            "val_loss=0.0085 ,val_accuracy=99.6119\n",
            "Step = 29200\n",
            "train_loss=0.0115 ,train_accuracy=99.4883\n",
            "val_loss=0.0059 ,val_accuracy=99.6218\n",
            "Step = 29600\n",
            "train_loss=0.0062 ,train_accuracy=99.7617\n",
            "val_loss=0.0128 ,val_accuracy=99.3232\n",
            "Step = 30000\n",
            "train_loss=0.0128 ,train_accuracy=99.4648\n",
            "val_loss=0.0150 ,val_accuracy=99.3232\n",
            "Step = 30400\n",
            "train_loss=0.0112 ,train_accuracy=99.5508\n",
            "val_loss=0.0126 ,val_accuracy=99.3929\n",
            "Step = 30800\n",
            "train_loss=0.0123 ,train_accuracy=99.5117\n",
            "val_loss=0.0182 ,val_accuracy=99.2635\n",
            "Step = 31200\n",
            "train_loss=0.0074 ,train_accuracy=99.7031\n",
            "val_loss=0.0028 ,val_accuracy=99.8507\n",
            "\n"
          ],
          "name": "stdout"
        }
      ]
    },
    {
      "cell_type": "code",
      "metadata": {
        "colab": {
          "base_uri": "https://localhost:8080/",
          "height": 545
        },
        "id": "5gp6GWgKZ-QP",
        "outputId": "042febb7-923e-4b41-cf23-2bb6386f3d10"
      },
      "source": [
        "# plot loss\n",
        "from matplotlib import pyplot as plt\n",
        "plt.plot( train_loss,'',  val_losses,'-')\n",
        "plt.title('Loss')\n",
        "plt.legend(['train','val'])\n",
        "plt.grid()\n",
        "plt.show()\n",
        "# plot accuracy\n",
        "plt.plot(train_acc,'', val_acc,'-')\n",
        "plt.title('Accuracy')\n",
        "plt.legend(['train','val'])\n",
        "plt.grid()\n",
        "plt.show()"
      ],
      "execution_count": null,
      "outputs": [
        {
          "output_type": "display_data",
          "data": {
            "image/png": "[encoded data removed]",
            "text/plain": [
              "<Figure size 432x288 with 1 Axes>"
            ]
          },
          "metadata": {
            "tags": [],
            "needs_background": "light"
          }
        },
        {
          "output_type": "display_data",
          "data": {
            "image/png": "[encoded data removed]",
            "text/plain": [
              "<Figure size 432x288 with 1 Axes>"
            ]
          },
          "metadata": {
            "tags": [],
            "needs_background": "light"
          }
        }
      ]
    },
    {
      "cell_type": "code",
      "metadata": {
        "id": "hR28iSpAZ-EI"
      },
      "source": [],
      "execution_count": null,
      "outputs": []
    },
    {
      "cell_type": "markdown",
      "metadata": {
        "id": "26wlvKnJA3Wv"
      },
      "source": [
        "# test another dataset"
      ]
    },
    {
      "cell_type": "code",
      "metadata": {
        "id": "fHSjKzloA5g7",
        "colab": {
          "base_uri": "https://localhost:8080/"
        },
        "outputId": "d8f38c1c-2394-426b-ad10-d2d2e10b0362"
      },
      "source": [
        "!unzip \"/content/drive/MyDrive/deep_lab/algebra__linear_1d.zip\" -d \"/content/drive/MyDrive/deep_lab\""
      ],
      "execution_count": null,
      "outputs": [
        {
          "output_type": "stream",
          "text": [
            "Archive:  /content/drive/MyDrive/deep_lab/algebra__linear_1d.zip\n",
            "   creating: /content/drive/MyDrive/deep_lab/algebra__linear_1d/\n",
            "  inflating: /content/drive/MyDrive/deep_lab/algebra__linear_1d/train.y  \n",
            "  inflating: /content/drive/MyDrive/deep_lab/algebra__linear_1d/train.x  \n",
            "  inflating: /content/drive/MyDrive/deep_lab/algebra__linear_1d/interpolate.y  \n",
            "  inflating: /content/drive/MyDrive/deep_lab/algebra__linear_1d/interpolate.x  \n"
          ],
          "name": "stdout"
        }
      ]
    },
    {
      "cell_type": "code",
      "metadata": {
        "id": "1v9bym3nBDsR"
      },
      "source": [
        "split_chars = lambda x: list(x)\n",
        "folder = '/content/drive/MyDrive/deep_lab/algebra__linear_1d/'\n",
        "TRAIN_FILE_NAME = \"train\"\n",
        "VALID_FILE_NAME = \"interpolate\"\n",
        "\n",
        "INPUTS_FILE_ENDING = \".x\"\n",
        "TARGETS_FILE_ENDING = \".y\"\n",
        "\n",
        "source_field = Field(tokenize=split_chars ,\n",
        "                    init_token='<sos>',\n",
        "                    eos_token='<eos>',\n",
        "                    batch_first=True)\n",
        "target_field = Field(tokenize=split_chars ,\n",
        "                    init_token='<sos>',\n",
        "                    eos_token='<eos>',\n",
        "                    batch_first=True)\n",
        "\n",
        "\n",
        "train_dataset , valid_dataset , _ = TranslationDataset.splits(\n",
        "    path=folder ,\n",
        "    root=folder ,\n",
        "    exts=(INPUTS_FILE_ENDING , TARGETS_FILE_ENDING),\n",
        "    fields=(source_field , target_field),\n",
        "    train=TRAIN_FILE_NAME ,\n",
        "    validation=VALID_FILE_NAME,\n",
        "    test=VALID_FILE_NAME)"
      ],
      "execution_count": null,
      "outputs": []
    },
    {
      "cell_type": "code",
      "metadata": {
        "id": "LdvyZaP8BDpJ"
      },
      "source": [
        "train_bs = 64\n",
        "train_iterator = Iterator(\n",
        "    dataset=train_dataset ,\n",
        "    batch_size=train_bs ,\n",
        "    train=True,\n",
        "    repeat=False,\n",
        "    shuffle=True,\n",
        "    device=device)\n",
        "\n",
        "val_iterator = Iterator(\n",
        "    dataset=valid_dataset ,\n",
        "    batch_size=train_bs ,\n",
        "    train=False,\n",
        "    repeat=False,\n",
        "    shuffle=False,\n",
        "    device=device)"
      ],
      "execution_count": null,
      "outputs": []
    },
    {
      "cell_type": "code",
      "metadata": {
        "id": "XCg9TaSRBDmZ"
      },
      "source": [
        "source_field.build_vocab(train_dataset)\n",
        "target_field.build_vocab(valid_dataset)"
      ],
      "execution_count": null,
      "outputs": []
    },
    {
      "cell_type": "code",
      "metadata": {
        "id": "lKRICXJ4BDc9",
        "colab": {
          "base_uri": "https://localhost:8080/"
        },
        "outputId": "4dc35ea2-4456-4f31-afee-bc99f0ea4b28"
      },
      "source": [
        "vocabs = source_field.vocab.stoi\n",
        "int2vocab = {}\n",
        "for k in vocabs.keys():\n",
        "    int2vocab[vocabs[k]] = k\n",
        "print(int2vocab[5])\n",
        "len(vocabs)"
      ],
      "execution_count": null,
      "outputs": [
        {
          "output_type": "stream",
          "text": [
            "o\n"
          ],
          "name": "stdout"
        },
        {
          "output_type": "execute_result",
          "data": {
            "text/plain": [
              "47"
            ]
          },
          "metadata": {
            "tags": []
          },
          "execution_count": 54
        }
      ]
    },
    {
      "cell_type": "code",
      "metadata": {
        "id": "86sXrjjEBNZ2",
        "colab": {
          "base_uri": "https://localhost:8080/"
        },
        "outputId": "56f80e05-ad67-4c59-d85b-59930d36a553"
      },
      "source": [
        "target_vocabs = target_field.vocab.stoi\n",
        "int2vocab = {}\n",
        "for k in target_vocabs.keys():\n",
        "    int2vocab[target_vocabs[k]] = k\n",
        "print(int2vocab[5])\n",
        "len(target_vocabs)"
      ],
      "execution_count": null,
      "outputs": [
        {
          "output_type": "stream",
          "text": [
            "2\n"
          ],
          "name": "stdout"
        },
        {
          "output_type": "execute_result",
          "data": {
            "text/plain": [
              "15"
            ]
          },
          "metadata": {
            "tags": []
          },
          "execution_count": 55
        }
      ]
    },
    {
      "cell_type": "code",
      "metadata": {
        "id": "WVTIs7DQBNXD",
        "colab": {
          "base_uri": "https://localhost:8080/"
        },
        "outputId": "7b70ffa5-d19a-4b19-f04d-04b412a9f5d9"
      },
      "source": [
        "target_vocabs"
      ],
      "execution_count": null,
      "outputs": [
        {
          "output_type": "execute_result",
          "data": {
            "text/plain": [
              "defaultdict(<function torchtext.vocab._default_unk_index>,\n",
              "            {'-': 4,\n",
              "             '0': 10,\n",
              "             '1': 7,\n",
              "             '2': 5,\n",
              "             '3': 6,\n",
              "             '4': 8,\n",
              "             '5': 9,\n",
              "             '6': 12,\n",
              "             '7': 14,\n",
              "             '8': 13,\n",
              "             '9': 11,\n",
              "             '<eos>': 3,\n",
              "             '<pad>': 1,\n",
              "             '<sos>': 2,\n",
              "             '<unk>': 0})"
            ]
          },
          "metadata": {
            "tags": []
          },
          "execution_count": 56
        }
      ]
    },
    {
      "cell_type": "code",
      "metadata": {
        "id": "qeCw5bZtBNUQ"
      },
      "source": [
        "ntoken = len(vocabs)\n",
        "ntoken_trg = len(target_vocabs)\n",
        "d_model = 256\n",
        "nhead = 8\n",
        "nlayers_enc = 3\n",
        "nlayers_dec = 2\n",
        "nfeed = 1024\n",
        "pad_token = 1\n",
        "# instantiations\n",
        "model = TransformerModel(ntoken, ntoken_trg, d_model, nlayers_enc, nlayers_dec, nhead, nfeed).to(device)"
      ],
      "execution_count": null,
      "outputs": []
    },
    {
      "cell_type": "code",
      "metadata": {
        "id": "wKPQvvFiBRAo"
      },
      "source": [
        "from torch.optim import Adam\n",
        "#criterion = nn.CrossEntropyLoss(ignore_index=0)\n",
        "criterion = nn.CrossEntropyLoss()\n",
        "optimizer = Adam(model.parameters(), lr=1e-4)"
      ],
      "execution_count": null,
      "outputs": []
    },
    {
      "cell_type": "code",
      "metadata": {
        "id": "BHHMRVpTBQ9X",
        "colab": {
          "base_uri": "https://localhost:8080/",
          "height": 1000,
          "referenced_widgets": [
            "79db9ad66ee049929d9f0c12f585d280",
            "adf1c7600612407e9897dcba0f4d9200",
            "e0a59dc109a04a3facb83c13a6db8c7d",
            "83da51bf4aa34534b146bc16091bd1fe",
            "03560ead51514d87851653d583815f53",
            "7a25dcc7764a4b2699de62e443e49e39",
            "7f220f77d4b14b01a1b415f032c57af2",
            "9d110a0a3a7e4bba947225a52b83b7cb"
          ]
        },
        "outputId": "a5daf8c6-98b5-4f2e-aab2-7d050d6cf619"
      },
      "source": [
        "from tqdm.notebook import tqdm\n",
        "\n",
        "update_every = 5\n",
        "batch_size = 64\n",
        "num_epochs = 1\n",
        "train_steps = len(train_iterator)\n",
        "val_steps = len(val_iterator)\n",
        "train_iter = iter(train_iterator)\n",
        "\n",
        "best_acc = 0\n",
        "\n",
        "train_loss = []\n",
        "val_losses = []\n",
        "\n",
        "train_acc = []\n",
        "val_acc = []\n",
        "\n",
        "total_step = 0\n",
        "for epoch in range(num_epochs):\n",
        "  print('\\nEpoch: ', epoch)\n",
        "  running_loss = []\n",
        "  running_acc = []\n",
        "  pbar = tqdm(range(train_steps))\n",
        "  stps = 0\n",
        "  acc = 0\n",
        "  for step in pbar:\n",
        "    model.train()\n",
        "    total_step += 1\n",
        "    batch = next(train_iter)\n",
        "    src, tgt = batch.src, batch.trg\n",
        "    src, tgt = src.to(device), tgt.to(device)\n",
        "\n",
        "    src = src.transpose(1, 0)  # change - transpose to swap dimensions\n",
        "    tgt = tgt.transpose(1, 0)\n",
        "    tgt_inp, tgt_out = tgt[:-1, :], tgt[ 1:, :].transpose(1, 0)\n",
        "    src_pad_mask, tgt_pad_mask, mem_pad_mask = model.gen_pad_masks(src,\n",
        "                                                                    tgt_inp, pad_token,\n",
        "                                                                    src.shape[0],\n",
        "                                                                    tgt_inp.shape[0], batch_size = src.shape[1])\n",
        "\n",
        "    src_pad_mask = src_pad_mask.to(device)\n",
        "    tgt_pad_mask = tgt_pad_mask.to(device)\n",
        "    mem_pad_mask = mem_pad_mask.to(device)\n",
        "    tgt_mask = model.generate_square_subsequent_mask(tgt_inp.shape[0]).to(device)\n",
        "\n",
        "    # Forward\n",
        "    #model.reset_history()\n",
        "\n",
        "    output = model( src, tgt_inp, tgt_mask, src_pad_mask, tgt_pad_mask, mem_pad_mask)\n",
        "    # output_ = output.view(-1, ntoken_trg)\n",
        "    # tgt_ = tgt_out.view(-1)\n",
        "    loss = criterion(output, tgt_out)\n",
        "    loss.backward()  # calculate gradients\n",
        "\n",
        "    acc = accuracy(tgt_out, output.argmax(1))\n",
        "    running_acc.append(acc)\n",
        "    running_loss.append(loss.detach().cpu().numpy())\n",
        "    # Backprop and update\n",
        "    if total_step%update_every == 0:\n",
        "      stps = stps + 1\n",
        "      torch.nn.utils.clip_grad_norm_(model.parameters(), 0.1)\n",
        "      optimizer.step()\n",
        "      optimizer.zero_grad() # check - zero gradients after updating weights\n",
        "\n",
        "\n",
        "    if total_step%400 == 0:  #print every 400 steps\n",
        "      train_loss.append(np.mean(running_loss))\n",
        "      train_acc.append(np.mean(running_acc))\n",
        "      print(f'Step = {total_step}')\n",
        "      s = \"train_loss=%2.4f ,train_accuracy=%2.4f\"%(np.mean(running_loss), np.mean(running_acc))\n",
        "      running_loss = []\n",
        "      running_acc = []\n",
        "      pbar.set_description(s)\n",
        "      print(s)\n",
        "\n",
        "\n",
        "      # Validate every epoch\n",
        "      val_iter = iter(val_iterator)\n",
        "      stps = 0\n",
        "      acc = 0\n",
        "      pbar_val = range(val_steps)\n",
        "      with torch.no_grad():\n",
        "        running_val_loss = []\n",
        "        running_val_acc = []\n",
        "        for step in pbar_val:\n",
        "          stps += 1\n",
        "          batch = next(val_iter)\n",
        "          src, tgt = batch.src, batch.trg\n",
        "          src, tgt = src.to(device), tgt.to(device)\n",
        "\n",
        "          src = src.transpose(1, 0)  # change - transpose to swap dimensions\n",
        "          tgt = tgt.transpose(1, 0)\n",
        "          tgt_inp, tgt_out = tgt[:-1, :], tgt[ 1:, :].transpose(1, 0)\n",
        "\n",
        "          # Forward\n",
        "          output, loss_out = greedy_search(model, src, batch_size = src.shape[1], sos_token = 2, pad_token = 1, c1 = tgt.shape[0], c2 = src.shape[0])\n",
        "          loss = criterion(loss_out, tgt_out)\n",
        "          running_val_loss.append(loss.cpu().numpy())\n",
        "          acc = accuracy(tgt_out, output)\n",
        "          running_val_acc.append(acc)\n",
        "\n",
        "        val_acc.append(np.mean(running_val_acc))\n",
        "        val_losses.append(np.mean(running_val_loss))\n",
        "        s = \"val_loss=%2.4f ,val_accuracy=%2.4f\"%(val_losses[-1], val_acc[-1])\n",
        "\n",
        "        print(s)\n",
        "        if val_acc[-1] > best_acc:\n",
        "          best_acc = val_acc[-1]\n",
        "          torch.save(model, '/content/drive/MyDrive/deep_lab/models/transformer_model_1d_algebra.pth')"
      ],
      "execution_count": null,
      "outputs": [
        {
          "output_type": "stream",
          "text": [
            "\n",
            "Epoch:  0\n"
          ],
          "name": "stdout"
        },
        {
          "output_type": "display_data",
          "data": {
            "application/vnd.jupyter.widget-view+json": {
              "model_id": "79db9ad66ee049929d9f0c12f585d280",
              "version_minor": 0,
              "version_major": 2
            },
            "text/plain": [
              "HBox(children=(FloatProgress(value=0.0, max=31250.0), HTML(value='')))"
            ]
          },
          "metadata": {
            "tags": []
          }
        },
        {
          "output_type": "stream",
          "text": [
            "Step = 400\n",
            "train_loss=0.7842 ,train_accuracy=12.6055\n",
            "val_loss=4.8262 ,val_accuracy=0.3682\n",
            "Step = 800\n",
            "train_loss=0.7816 ,train_accuracy=13.1523\n",
            "val_loss=4.8302 ,val_accuracy=0.3284\n",
            "Step = 1200\n",
            "train_loss=0.7866 ,train_accuracy=12.5938\n",
            "val_loss=4.7991 ,val_accuracy=0.3583\n",
            "Step = 1600\n",
            "train_loss=0.7775 ,train_accuracy=12.4766\n",
            "val_loss=4.8963 ,val_accuracy=0.3682\n",
            "Step = 2000\n",
            "train_loss=0.7805 ,train_accuracy=12.4453\n",
            "val_loss=4.7265 ,val_accuracy=0.3583\n",
            "Step = 2400\n",
            "train_loss=0.7763 ,train_accuracy=12.8203\n",
            "val_loss=4.8229 ,val_accuracy=0.2986\n",
            "Step = 2800\n",
            "train_loss=0.7731 ,train_accuracy=12.8359\n",
            "val_loss=4.7861 ,val_accuracy=0.3483\n",
            "Step = 3200\n",
            "train_loss=0.7793 ,train_accuracy=12.9883\n",
            "val_loss=4.8220 ,val_accuracy=0.2787\n",
            "Step = 3600\n",
            "train_loss=0.7641 ,train_accuracy=13.0820\n",
            "val_loss=4.8099 ,val_accuracy=0.3284\n",
            "Step = 4000\n",
            "train_loss=0.7759 ,train_accuracy=13.0078\n",
            "val_loss=4.8357 ,val_accuracy=0.3085\n",
            "Step = 4400\n",
            "train_loss=0.7691 ,train_accuracy=13.2383\n",
            "val_loss=4.8631 ,val_accuracy=0.3185\n",
            "Step = 4800\n",
            "train_loss=0.7677 ,train_accuracy=13.0430\n",
            "val_loss=4.8085 ,val_accuracy=0.3384\n",
            "Step = 5200\n",
            "train_loss=0.7659 ,train_accuracy=13.2148\n",
            "val_loss=4.8513 ,val_accuracy=0.3384\n",
            "Step = 5600\n",
            "train_loss=0.7616 ,train_accuracy=12.9570\n",
            "val_loss=4.8692 ,val_accuracy=0.3085\n",
            "Step = 6000\n",
            "train_loss=0.7669 ,train_accuracy=13.0742\n",
            "val_loss=4.8599 ,val_accuracy=0.3085\n",
            "Step = 6400\n",
            "train_loss=0.7668 ,train_accuracy=12.7617\n",
            "val_loss=4.8345 ,val_accuracy=0.3583\n",
            "Step = 6800\n",
            "train_loss=0.7599 ,train_accuracy=13.2656\n",
            "val_loss=4.7751 ,val_accuracy=0.2787\n",
            "Step = 7200\n",
            "train_loss=0.7671 ,train_accuracy=13.9102\n",
            "val_loss=4.8143 ,val_accuracy=0.2986\n",
            "Step = 7600\n",
            "train_loss=0.7579 ,train_accuracy=13.3867\n",
            "val_loss=4.7891 ,val_accuracy=0.3085\n",
            "Step = 8000\n",
            "train_loss=0.7627 ,train_accuracy=13.4883\n",
            "val_loss=4.8891 ,val_accuracy=0.3085\n",
            "Step = 8400\n",
            "train_loss=0.7561 ,train_accuracy=13.8203\n",
            "val_loss=4.9163 ,val_accuracy=0.3185\n",
            "Step = 8800\n",
            "train_loss=0.7482 ,train_accuracy=14.1602\n",
            "val_loss=4.8742 ,val_accuracy=0.3284\n",
            "Step = 9200\n",
            "train_loss=0.7528 ,train_accuracy=14.1367\n",
            "val_loss=4.9458 ,val_accuracy=0.3384\n",
            "Step = 9600\n",
            "train_loss=0.7512 ,train_accuracy=14.5156\n",
            "val_loss=4.7164 ,val_accuracy=0.3384\n",
            "Step = 10000\n",
            "train_loss=0.7401 ,train_accuracy=14.7656\n",
            "val_loss=4.8851 ,val_accuracy=0.3583\n",
            "Step = 10400\n",
            "train_loss=0.7372 ,train_accuracy=14.7461\n",
            "val_loss=4.8077 ,val_accuracy=0.3583\n",
            "Step = 10800\n",
            "train_loss=0.7330 ,train_accuracy=14.6562\n",
            "val_loss=4.9634 ,val_accuracy=0.3284\n",
            "Step = 11200\n",
            "train_loss=0.7343 ,train_accuracy=14.8008\n",
            "val_loss=4.8669 ,val_accuracy=0.3981\n",
            "Step = 11600\n",
            "train_loss=0.7345 ,train_accuracy=14.8398\n",
            "val_loss=4.7953 ,val_accuracy=0.3185\n",
            "Step = 12000\n",
            "train_loss=0.7331 ,train_accuracy=14.8242\n",
            "val_loss=4.8901 ,val_accuracy=0.3483\n",
            "Step = 12400\n",
            "train_loss=0.7420 ,train_accuracy=15.0625\n",
            "val_loss=4.9562 ,val_accuracy=0.3583\n",
            "Step = 12800\n",
            "train_loss=0.7362 ,train_accuracy=14.6094\n",
            "val_loss=5.0137 ,val_accuracy=0.3682\n",
            "Step = 13200\n",
            "train_loss=0.7256 ,train_accuracy=14.8750\n",
            "val_loss=4.9544 ,val_accuracy=0.3483\n",
            "Step = 13600\n",
            "train_loss=0.7306 ,train_accuracy=15.6406\n",
            "val_loss=4.9060 ,val_accuracy=0.2986\n",
            "Step = 14000\n",
            "train_loss=0.7255 ,train_accuracy=14.7227\n",
            "val_loss=4.9961 ,val_accuracy=0.3384\n",
            "Step = 14400\n",
            "train_loss=0.7199 ,train_accuracy=15.4297\n",
            "val_loss=4.9713 ,val_accuracy=0.3384\n",
            "Step = 14800\n",
            "train_loss=0.7196 ,train_accuracy=15.4570\n",
            "val_loss=4.8924 ,val_accuracy=0.3284\n",
            "Step = 15200\n",
            "train_loss=0.7185 ,train_accuracy=15.4766\n",
            "val_loss=4.7554 ,val_accuracy=0.3284\n",
            "Step = 15600\n",
            "train_loss=0.7149 ,train_accuracy=15.0938\n",
            "val_loss=4.9023 ,val_accuracy=0.2986\n",
            "Step = 16000\n",
            "train_loss=0.7189 ,train_accuracy=16.1484\n",
            "val_loss=4.8571 ,val_accuracy=0.2787\n",
            "Step = 16400\n",
            "train_loss=0.7188 ,train_accuracy=15.7695\n",
            "val_loss=4.7988 ,val_accuracy=0.3185\n",
            "Step = 16800\n",
            "train_loss=0.7159 ,train_accuracy=15.8789\n",
            "val_loss=4.9275 ,val_accuracy=0.3583\n",
            "Step = 17200\n",
            "train_loss=0.7157 ,train_accuracy=15.5547\n",
            "val_loss=4.9243 ,val_accuracy=0.3284\n",
            "Step = 17600\n",
            "train_loss=0.7221 ,train_accuracy=15.4297\n",
            "val_loss=4.9327 ,val_accuracy=0.3085\n",
            "Step = 18000\n",
            "train_loss=0.7150 ,train_accuracy=15.5156\n",
            "val_loss=4.8798 ,val_accuracy=0.3185\n",
            "Step = 18400\n",
            "train_loss=0.7044 ,train_accuracy=15.8359\n",
            "val_loss=4.9446 ,val_accuracy=0.3682\n",
            "Step = 18800\n",
            "train_loss=0.7073 ,train_accuracy=15.7773\n",
            "val_loss=4.9244 ,val_accuracy=0.3384\n",
            "Step = 19200\n",
            "train_loss=0.7060 ,train_accuracy=16.2539\n",
            "val_loss=4.9484 ,val_accuracy=0.3483\n",
            "Step = 19600\n",
            "train_loss=0.7116 ,train_accuracy=15.7461\n",
            "val_loss=4.8808 ,val_accuracy=0.3085\n",
            "Step = 20000\n",
            "train_loss=0.7162 ,train_accuracy=16.2500\n",
            "val_loss=4.9847 ,val_accuracy=0.3384\n",
            "Step = 20400\n",
            "train_loss=0.7021 ,train_accuracy=16.0312\n",
            "val_loss=5.0554 ,val_accuracy=0.2588\n",
            "Step = 20800\n",
            "train_loss=0.7029 ,train_accuracy=16.1758\n",
            "val_loss=4.9741 ,val_accuracy=0.2986\n",
            "Step = 21200\n",
            "train_loss=0.7011 ,train_accuracy=16.3984\n",
            "val_loss=4.9930 ,val_accuracy=0.4279\n",
            "Step = 21600\n",
            "train_loss=0.7104 ,train_accuracy=16.3047\n",
            "val_loss=5.0468 ,val_accuracy=0.3284\n",
            "Step = 22000\n",
            "train_loss=0.6971 ,train_accuracy=16.3164\n",
            "val_loss=4.9549 ,val_accuracy=0.2687\n",
            "Step = 22400\n",
            "train_loss=0.6994 ,train_accuracy=16.8750\n",
            "val_loss=5.0896 ,val_accuracy=0.3085\n",
            "Step = 22800\n",
            "train_loss=0.6984 ,train_accuracy=17.1133\n",
            "val_loss=5.2356 ,val_accuracy=0.3782\n",
            "Step = 23200\n",
            "train_loss=0.6963 ,train_accuracy=16.9492\n",
            "val_loss=5.0693 ,val_accuracy=0.3185\n",
            "Step = 23600\n",
            "train_loss=0.6909 ,train_accuracy=17.8516\n",
            "val_loss=5.0804 ,val_accuracy=0.3284\n",
            "Step = 24000\n",
            "train_loss=0.6890 ,train_accuracy=17.9180\n",
            "val_loss=5.1495 ,val_accuracy=0.3284\n",
            "Step = 24400\n",
            "train_loss=0.6929 ,train_accuracy=18.4258\n",
            "val_loss=4.9846 ,val_accuracy=0.4379\n",
            "Step = 24800\n",
            "train_loss=0.6859 ,train_accuracy=18.1602\n",
            "val_loss=5.0873 ,val_accuracy=0.4080\n",
            "Step = 25200\n",
            "train_loss=0.6796 ,train_accuracy=18.8984\n",
            "val_loss=5.1094 ,val_accuracy=0.2488\n",
            "Step = 25600\n",
            "train_loss=0.6820 ,train_accuracy=18.9062\n",
            "val_loss=5.0338 ,val_accuracy=0.4976\n",
            "Step = 26000\n",
            "train_loss=0.6728 ,train_accuracy=19.0938\n",
            "val_loss=5.1660 ,val_accuracy=0.3583\n",
            "Step = 26400\n",
            "train_loss=0.6726 ,train_accuracy=19.6797\n",
            "val_loss=5.0849 ,val_accuracy=0.5772\n",
            "Step = 26800\n",
            "train_loss=0.6733 ,train_accuracy=19.4219\n",
            "val_loss=5.1863 ,val_accuracy=0.4279\n",
            "Step = 27200\n",
            "train_loss=0.6742 ,train_accuracy=19.6133\n",
            "val_loss=5.1056 ,val_accuracy=0.3782\n",
            "Step = 27600\n",
            "train_loss=0.6661 ,train_accuracy=20.2539\n",
            "val_loss=5.1245 ,val_accuracy=0.5573\n",
            "Step = 28000\n",
            "train_loss=0.6714 ,train_accuracy=20.5352\n",
            "val_loss=5.3648 ,val_accuracy=0.4777\n",
            "Step = 28400\n",
            "train_loss=0.6629 ,train_accuracy=20.9844\n",
            "val_loss=5.2606 ,val_accuracy=0.5275\n",
            "Step = 28800\n",
            "train_loss=0.6569 ,train_accuracy=20.9141\n",
            "val_loss=5.2198 ,val_accuracy=0.4479\n",
            "Step = 29200\n",
            "train_loss=0.6636 ,train_accuracy=20.8281\n",
            "val_loss=5.1468 ,val_accuracy=0.5076\n",
            "Step = 29600\n",
            "train_loss=0.6563 ,train_accuracy=21.0977\n",
            "val_loss=5.1600 ,val_accuracy=0.4976\n",
            "Step = 30000\n",
            "train_loss=0.6548 ,train_accuracy=21.7695\n",
            "val_loss=5.3383 ,val_accuracy=0.5076\n",
            "Step = 30400\n",
            "train_loss=0.6578 ,train_accuracy=21.8789\n",
            "val_loss=5.2543 ,val_accuracy=0.4479\n",
            "Step = 30800\n",
            "train_loss=0.6557 ,train_accuracy=21.6172\n",
            "val_loss=5.1013 ,val_accuracy=0.5175\n",
            "Step = 31200\n",
            "train_loss=0.6527 ,train_accuracy=21.2266\n",
            "val_loss=5.0708 ,val_accuracy=0.4479\n",
            "\n"
          ],
          "name": "stdout"
        }
      ]
    },
    {
      "cell_type": "code",
      "metadata": {
        "id": "usiQJGwtIRgQ"
      },
      "source": [
        "train_loss1 =  train_loss.copy()\n",
        "val_losses1 = val_losses.copy()\n",
        "\n",
        "train_acc1 = train_acc.copy()\n",
        "val_acc1 = val_acc.copy()"
      ],
      "execution_count": null,
      "outputs": []
    },
    {
      "cell_type": "code",
      "metadata": {
        "colab": {
          "base_uri": "https://localhost:8080/",
          "height": 545
        },
        "id": "SEP946SyOgFf",
        "outputId": "7352930e-9d74-4595-b90b-a37ea64c0985"
      },
      "source": [
        "# plot loss\n",
        "from matplotlib import pyplot as plt\n",
        "plt.plot( train_loss,'',  val_losses,'-')\n",
        "plt.title('Loss')\n",
        "plt.legend(['train','val'])\n",
        "plt.grid()\n",
        "plt.show()\n",
        "# plot accuracy\n",
        "plt.plot(train_acc,'', val_acc,'-')\n",
        "plt.title('Accuracy')\n",
        "plt.legend(['train','val'])\n",
        "plt.grid()\n",
        "plt.show()"
      ],
      "execution_count": null,
      "outputs": [
        {
          "output_type": "display_data",
          "data": {
            "image/png": "[encoded data removed]",
            "text/plain": [
              "<Figure size 432x288 with 1 Axes>"
            ]
          },
          "metadata": {
            "tags": [],
            "needs_background": "light"
          }
        },
        {
          "output_type": "display_data",
          "data": {
            "image/png": "[encoded data removed]",
            "text/plain": [
              "<Figure size 432x288 with 1 Axes>"
            ]
          },
          "metadata": {
            "tags": [],
            "needs_background": "light"
          }
        }
      ]
    },
    {
      "cell_type": "code",
      "metadata": {
        "id": "pxneWi8rOhvX"
      },
      "source": [],
      "execution_count": null,
      "outputs": []
    }
  ]
}